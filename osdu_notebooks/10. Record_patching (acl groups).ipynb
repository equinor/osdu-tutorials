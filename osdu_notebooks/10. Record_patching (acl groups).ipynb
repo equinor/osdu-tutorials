{
 "cells": [
  {
   "attachments": {},
   "cell_type": "markdown",
   "metadata": {},
   "source": [
    "## Updating the ACL groups for ReferenceData records in DEV"
   ]
  },
  {
   "attachments": {},
   "cell_type": "markdown",
   "metadata": {},
   "source": [
    "This notebook is intended to provide a short practical example on how to use the patching funtionality available on the OSDU storage API in order to update the ACL groups for the reference data in the DEV environment. This was performed in order to make all reference data searchable and therefore referencable on the Seimic Data Bank metadata work when moving the records from custom to well-know schemas."
   ]
  },
  {
   "cell_type": "code",
   "execution_count": 1,
   "metadata": {},
   "outputs": [
    {
     "data": {
      "text/plain": [
       "True"
      ]
     },
     "execution_count": 1,
     "metadata": {},
     "output_type": "execute_result"
    }
   ],
   "source": [
    "from libs.osdu_service.osdu_http_client import OsduHttpClient\n",
    "import json\n",
    "\n",
    "# Adding .env file variables as environment variables\n",
    "from dotenv import load_dotenv\n",
    "load_dotenv()"
   ]
  },
  {
   "cell_type": "code",
   "execution_count": 2,
   "metadata": {},
   "outputs": [],
   "source": [
    "\"\"\"\n",
    "Let's use the OSDU CLI client for the task in DEV.\n",
    "\"\"\"\n",
    "\n",
    "osdu_env = \"npequinor-dev\"\n",
    "# osdu_env = \"npequinor-test\"\n",
    "# osdu_env = \"equinor-data\"\n",
    "osdu_env = OsduHttpClient(osdu_env, client_type=\"public-client\")"
   ]
  },
  {
   "cell_type": "code",
   "execution_count": 3,
   "metadata": {},
   "outputs": [],
   "source": [
    "\"\"\"\n",
    "Testing wether our client has access to on of the records we aim to target.\n",
    "It should have access to both the SEARCH and STORAGE API's to perform its tasks.\n",
    "\"\"\"\n",
    "\n",
    "# data = {\n",
    "#         \"kind\": \"osdu:wks:reference-data--SeismicTraceDataDimensionalityType:1.0.0\",\n",
    "#         \"query\": \"id: \\\"npequinor-dev:reference-data--SeismicTraceDataDimensionalityType:3D\\\"\"\n",
    "#     }\n",
    "\n",
    "# resp_search = osdu_env.app_post_returning_json(\n",
    "#     service_relative_uri=\"search/v2/query\",\n",
    "#     payload=data\n",
    "#     )\n",
    "\n",
    "# resp_storage = osdu_env.app_get_returning_json(\n",
    "#     \"storage/v2/records/npequinor-dev:reference-data--SeismicTraceDataDimensionalityType:3D\"\n",
    "#     )\n",
    "\n",
    "# assert resp_search[0].get(\"id\") == resp_storage[\"id\"]"
   ]
  },
  {
   "cell_type": "code",
   "execution_count": 67,
   "metadata": {},
   "outputs": [
    {
     "name": "stdout",
     "output_type": "stream",
     "text": [
      "Records found: 16973\n"
     ]
    }
   ],
   "source": [
    "\"\"\"\n",
    "Let's search for all the objects' ids we aim to modify\n",
    "\"\"\"\n",
    "\n",
    "payload =     {\n",
    "    \"kind\": \"osdu:wks:reference-data*:*\",\n",
    "    \"returnedFields\": [\"id\",\"kind\", \"acl\"],\n",
    "    \"limit\": 1000\n",
    "    }\n",
    "\n",
    "service_url = f\"search/v2/query_with_cursor\"\n",
    "\n",
    "response = osdu_env.app_query_with_cursor(\n",
    "    service_url,\n",
    "    payload\n",
    ")\n",
    "\n",
    "print(f\"Records found: {len(response)}\")"
   ]
  },
  {
   "cell_type": "code",
   "execution_count": 68,
   "metadata": {},
   "outputs": [
    {
     "name": "stdout",
     "output_type": "stream",
     "text": [
      "\n",
      "    Total records: 16973\n",
      "    Records with both acl = 2,\n",
      "    Records with acl1: data.default.viewers@npequinor-dev.dataservices.energy = 11814,\n",
      "    Records with acl2: data.osdudevops.viewers@npequinor-dev.dataservices.energy = 5157\n",
      "    \n"
     ]
    }
   ],
   "source": [
    "\"\"\" \n",
    "Let's check which records have the correct acl groups.\n",
    "\"\"\"\n",
    "\n",
    "# records_ok_acl = [i[\"id\"] for i in resp if i.get(\"acl\").get(\"viewers\")[0] == \"data.default.viewers@npequinor-dev.dataservices.energy\"]\n",
    "# records_non_ok_acl = [i[\"id\"] for i in resp if i.get(\"acl\").get(\"viewers\")[0] == \"data.osdudevops.viewers@npequinor-dev.dataservices.energy\"]\n",
    "\n",
    "acl_group1 = \"data.default.viewers@npequinor-dev.dataservices.energy\"\n",
    "acl_group2 = \"data.osdudevops.viewers@npequinor-dev.dataservices.energy\"\n",
    "\n",
    "records_acl1 = []\n",
    "records_acl2 = []\n",
    "records_both_acl = []\n",
    "\n",
    "for i in response:\n",
    "    viewers = i.get(\"acl\").get(\"viewers\")\n",
    "    if (acl_group1 in viewers) and (acl_group2 in viewers):\n",
    "        records_both_acl.append(i)\n",
    "    elif acl_group1 in viewers:\n",
    "        records_acl2.append(i)\n",
    "    elif acl_group2 in viewers:\n",
    "        records_acl1.append(i)\n",
    "\n",
    "print(\n",
    "    f\"\"\"\n",
    "    Total records: {len(response)}\n",
    "    Records with both acl = {len(records_both_acl)},\n",
    "    Records with acl1: {acl_group1} = {len(records_acl1)},\n",
    "    Records with acl2: {acl_group2} = {len(records_acl2)}\n",
    "    \"\"\"\n",
    ")\n",
    "\n",
    "assert len(records_acl1) + len(records_acl2) + len(records_both_acl) == len(response)       "
   ]
  },
  {
   "cell_type": "code",
   "execution_count": 71,
   "metadata": {},
   "outputs": [
    {
     "data": {
      "text/plain": [
       "{'kind': 'osdu:wks:reference-data--SeismicTraceDataDimensionalityType:1.0.0',\n",
       " 'acl': {'viewers': ['data.default.viewers@npequinor-dev.dataservices.energy',\n",
       "   'data.osdudevops.viewers@npequinor-dev.dataservices.energy',\n",
       "   'testacl@npequinor-dev.dataservices.energy'],\n",
       "  'owners': ['data.osdudevops.owners@npequinor-dev.dataservices.energy']},\n",
       " 'id': 'npequinor-dev:reference-data--SeismicTraceDataDimensionalityType:3D'}"
      ]
     },
     "execution_count": 71,
     "metadata": {},
     "output_type": "execute_result"
    }
   ],
   "source": [
    "records_both_acl[0]"
   ]
  },
  {
   "cell_type": "code",
   "execution_count": 72,
   "metadata": {},
   "outputs": [],
   "source": [
    "\"\"\"\n",
    "Let's create our UPDATE/PATCH loop, as we do not want to use PUT method.\n",
    "This way we preserve the currect version of the records while save some storage.\n",
    "\"\"\"\n",
    "import requests\n",
    "\n",
    "records_patched = []\n",
    "records_patch_failed = []\n",
    "\n",
    "for record in response[:]:\n",
    "    try:\n",
    "        \n",
    "        patch_body = { \n",
    "                    \"query\": { \n",
    "                        \"ids\": [\n",
    "                        record[\"id\"]\n",
    "                        ]\n",
    "                    }, \n",
    "                    \"ops\": [\n",
    "                        { \n",
    "                        \"op\": \"replace\", \n",
    "                        \"path\": \"/acl/viewers\", \n",
    "                        \"value\": [\n",
    "                            \"data.default.viewers@npequinor-dev.dataservices.energy\",\n",
    "                            \"data.osdudevops.viewers@npequinor-dev.dataservices.energy\",\n",
    "                        ]\n",
    "                        }\n",
    "                    ] \n",
    "                    }\n",
    "\n",
    "        osdu_base_url = osdu_env.env_variables[\"url\"]\n",
    "        patch_url = f\"{osdu_base_url}/storage/v2\"\n",
    "        headers = osdu_env.osdu_client.get_headers()\n",
    "\n",
    "        response = requests.patch(\n",
    "            f\"{patch_url}/records\",\n",
    "            data=json.dumps(patch_body),\n",
    "            headers=headers\n",
    "        )\n",
    "        \n",
    "        records_patched.append(record[\"id\"])\n",
    "        \n",
    "        response\n",
    "    \n",
    "    except:\n",
    "        \n",
    "        records_patch_failed.append(record[\"id\"])\n",
    "        "
   ]
  },
  {
   "cell_type": "code",
   "execution_count": 76,
   "metadata": {},
   "outputs": [
    {
     "name": "stdout",
     "output_type": "stream",
     "text": [
      "\n",
      "    # Records attempted to patch: 16973\n",
      "    Records succesfully patched: 16973,\n",
      "    Records failed when patching: 0\n",
      "    \n"
     ]
    }
   ],
   "source": [
    "print(\n",
    "    f\"\"\"\n",
    "    # Records attempted to patch: {len(response)}\n",
    "    Records succesfully patched: {len(records_patched)},\n",
    "    Records failed when patching: {len(records_patch_failed)}\n",
    "    \"\"\"\n",
    ")"
   ]
  }
 ],
 "metadata": {
  "kernelspec": {
   "display_name": "venv",
   "language": "python",
   "name": "python3"
  },
  "language_info": {
   "codemirror_mode": {
    "name": "ipython",
    "version": 3
   },
   "file_extension": ".py",
   "mimetype": "text/x-python",
   "name": "python",
   "nbconvert_exporter": "python",
   "pygments_lexer": "ipython3",
   "version": "3.9.13"
  },
  "orig_nbformat": 4
 },
 "nbformat": 4,
 "nbformat_minor": 2
}
