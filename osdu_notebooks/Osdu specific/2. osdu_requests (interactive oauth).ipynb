{
 "cells": [
  {
   "attachments": {},
   "cell_type": "markdown",
   "metadata": {},
   "source": [
    "## Interactive Authentication to OSDU\n",
    "\n",
    "This notebook is intended to serve as introduction on how to send API requests to OSDU using an interactive OAuth 2.0 methodology.\n",
    "\n",
    "What is OAuth?\n",
    "OAuth 2.0, which stands for \"Open Authorization,\" is a standard designed to allow a website or application to access resources hosted by other web applications on behalf of a user.\n",
    "\n",
    "The notebooks covers the following points:\n",
    "\n",
    "1. Sending GET and POST request using Microsoft Authentication Library (MSAL).\n",
    "2. Sending GET and POST request using OSDU SDK.\n",
    "\n"
   ]
  },
  {
   "cell_type": "code",
   "execution_count": null,
   "metadata": {},
   "outputs": [],
   "source": [
    "\"\"\"\n",
    "REMARK:\n",
    "\n",
    "This notebook is intended for educative purposes.\n",
    "Its content will be abstracted from the user when uisng the OSDU SDK and during the OSDU http client class service (5. osdu_http_client.ipynb).\n",
    "\"\"\""
   ]
  },
  {
   "attachments": {},
   "cell_type": "markdown",
   "metadata": {},
   "source": [
    "##### 1. Sending GET and POST request using Microsoft Authentication Library (MSAL)"
   ]
  },
  {
   "cell_type": "code",
   "execution_count": 1,
   "metadata": {},
   "outputs": [
    {
     "data": {
      "text/plain": [
       "True"
      ]
     },
     "execution_count": 1,
     "metadata": {},
     "output_type": "execute_result"
    }
   ],
   "source": [
    "\n",
    "import msal\n",
    "import requests, json\n",
    "import os\n",
    "\n",
    "# Adding .env file variables as environment variables\n",
    "from dotenv import load_dotenv\n",
    "load_dotenv()"
   ]
  },
  {
   "cell_type": "code",
   "execution_count": 2,
   "metadata": {},
   "outputs": [],
   "source": [
    "\"\"\"\n",
    "The authentication/authorization requires an application to have been regitered within Azure under\n",
    "EQN tenancy, which will provide the application with a client_id.\n",
    "\n",
    "Once the previous is done the application will require to have access to the OSDU main principals\n",
    "for DEV, TEST, and PROD, so that we can make requests to OSDU using its client_id.\n",
    "\n",
    "The application can be either a PublicClientApplication or ConfidentialClientApplication.\n",
    "We will use a PublicClientApplication for this example to make a simple request to OSDU,\n",
    "which allows us authenticate intectively by passing only the client_id argument of the\n",
    "PublicClientApplication method. This method will open a browser window to allow you\n",
    "authenticate using your EQN credentials.\n",
    "\"\"\"\n",
    "\n",
    "tenant_id = os.environ[\"tenant_id\"]\n",
    "client_id = os.environ[\"osdu_cli_client_id\"]\n",
    "authority = f\"https://login.microsoftonline.com/{tenant_id}\"\n",
    "scopes = f'{os.environ[\"np_resource_id\"]}/.default openid'\n",
    "\n",
    "\n",
    "\"\"\"Then we instantiate a ConfidentialClientApplication.\"\"\"\n",
    "\n",
    "app_client = msal.PublicClientApplication(\n",
    "    client_id=client_id,\n",
    "    authority=authority\n",
    ")\n",
    "\n",
    "\n",
    "\"\"\"Then we request an access token using the app_client credentials, which will be send in the\n",
    "body of our request.\"\"\"\n",
    "\n",
    "result = app_client.acquire_token_interactive(scopes=[scopes], prompt=msal.Prompt.SELECT_ACCOUNT, timeout = 10)\n",
    "# result = app.acquire_token_silent([scopes], account=app.get_accounts()[0])\n",
    "access_token = result['access_token']"
   ]
  },
  {
   "cell_type": "code",
   "execution_count": 3,
   "metadata": {},
   "outputs": [
    {
     "data": {
      "text/plain": [
       "{'name': 'npequinor-dev-equinor-private-default',\n",
       " 'description': 'A default legaltag to be used for Equinor data',\n",
       " 'properties': {'countryOfOrigin': ['NO'],\n",
       "  'contractId': 'Unknown',\n",
       "  'expirationDate': '9999-12-31',\n",
       "  'originator': 'Equinor',\n",
       "  'dataType': 'First Party Data',\n",
       "  'securityClassification': 'Private',\n",
       "  'personalData': 'No Personal Data',\n",
       "  'exportClassification': 'No License Required'}}"
      ]
     },
     "execution_count": 3,
     "metadata": {},
     "output_type": "execute_result"
    }
   ],
   "source": [
    "\n",
    "\"\"\"\n",
    "GET REQUEST: Listing legal tags.\n",
    "\n",
    "To make a request to OSDU, we need to append the access token and also the osdu data partition id\n",
    "{PROD: \"equinor-data\", TEST: \"npequinor-test\", DEV: \"npequinor-dev\"} we aim to target. \n",
    "\"\"\"\n",
    "\n",
    "osdu_np_server = os.environ[\"osdu_np_server\"]\n",
    "\n",
    "headers={\n",
    "    \"Authorization\": f\"Bearer {access_token}\",\n",
    "    \"Content-Type\": \"application/json\",\n",
    "    'Accept': 'application/json',\n",
    "    \"data-partition-id\": os.environ[\"osdu_npdev_data_partition_id\"],        \n",
    "}\n",
    "\n",
    "\n",
    "\"\"\"Sending a GET request\"\"\"\n",
    "\n",
    "resp = requests.request(\n",
    "    \"GET\",\n",
    "    url = f\"{osdu_np_server}/legal/v1/legaltags?valid=true\",\n",
    "    headers=headers\n",
    ")\n",
    "\n",
    "\n",
    "\"\"\"Printing first legal in the response\"\"\"\n",
    "\n",
    "resp.json()['legalTags'][0]"
   ]
  },
  {
   "cell_type": "code",
   "execution_count": 4,
   "metadata": {},
   "outputs": [
    {
     "data": {
      "text/plain": [
       "[{'key': 'eqnr:smda-api-v2.0:wellbore-alias:1.0.0', 'count': 747693},\n",
       " {'key': 'eqnr:iEnergy-diskos:linesegmentgeometries:1.0.0', 'count': 167619},\n",
       " {'key': 'osdu:wks:work-product-component--SeismicLineGeometry:1.0.0',\n",
       "  'count': 167619},\n",
       " {'key': 'eqnr:smda-api-v2.0:wellheaders:1.0.0', 'count': 151456},\n",
       " {'key': 'osdu:wks:master-data--Wellbore:1.1.0', 'count': 151048}]"
      ]
     },
     "execution_count": 4,
     "metadata": {},
     "output_type": "execute_result"
    }
   ],
   "source": [
    "\"\"\"\n",
    "POST REQUEST: OSDU aggregated records by schema kind.\n",
    "\n",
    "To make a request to OSDU, we need to append the access token and also the osdu data partition id\n",
    "{PROD: \"equinor-data\", TEST: \"npequinor-test\", DEV: \"npequinor-dev\"} we aim to target. \n",
    "\"\"\"\n",
    "\n",
    "osdu_np_server = os.environ[\"osdu_np_server\"]\n",
    "\n",
    "headers={\n",
    "    \"Authorization\": f\"Bearer {access_token}\",\n",
    "    \"Content-Type\": \"application/json\",\n",
    "    \"data-partition-id\": os.environ[\"osdu_npdev_data_partition_id\"],        \n",
    "}\n",
    "\n",
    "schema_kinds = \"*:*:*:*\"\n",
    "payload = payload = {\"kind\": schema_kinds, 'aggregateBy': 'kind', 'query': \"*\"}\n",
    "\n",
    "\n",
    "\"\"\"Sending a POST request\"\"\"\n",
    "\n",
    "resp = requests.request(\n",
    "    \"POST\",\n",
    "    url = f\"{osdu_np_server}/search/v2/query\",\n",
    "    data = json.dumps(payload),\n",
    "    headers=headers\n",
    ")\n",
    "\n",
    "\n",
    "\"\"\"Printing first aggregated counts by shcema kind\"\"\"\n",
    "\n",
    "resp.json()['aggregations'][:5]"
   ]
  },
  {
   "attachments": {},
   "cell_type": "markdown",
   "metadata": {},
   "source": [
    "##### 2. Sending GET and POST request using OSDU SDK."
   ]
  },
  {
   "cell_type": "code",
   "execution_count": 5,
   "metadata": {},
   "outputs": [],
   "source": [
    "from osdu.identity import OsduMsalInteractiveCredential\n",
    "from osdu.client import OsduClient"
   ]
  },
  {
   "cell_type": "code",
   "execution_count": 6,
   "metadata": {},
   "outputs": [],
   "source": [
    "\"\"\"\n",
    "Previously you saw we created an instance of a PublicClientApplication and passed\n",
    "it the Osdu CLI client_id and acquired a token intectively.\n",
    "\n",
    "This is abstracted in the osdu.client.OsduClient class and the osdu.identity.OsduMsalInteractiveCredential class.\n",
    "Therefore, instead of doing what we did before we can use these abstractions to declare our client.\n",
    "\"\"\"\n",
    "\n",
    "tenant_id = os.environ[\"tenant_id\"]\n",
    "scopes = f'{os.environ[\"np_resource_id\"]}/.default openid'\n",
    "authority = f\"https://login.microsoftonline.com/{tenant_id}\"\n",
    "\n",
    "\"\"\"First we instantiate our credentials, which will allow us authenticate interactively to retrieve\n",
    "and acceess token which will be passes latter in our requests to OSDU.\"\"\"\n",
    "credentials = OsduMsalInteractiveCredential(\n",
    "    client_id=os.environ[\"osdu_cli_client_id\"],\n",
    "    authority=authority,\n",
    "    scopes=scopes,\n",
    "    token_cache=\"token_cache.txt\"\n",
    ")\n",
    "\n",
    "\"\"\"Then we instantiate our client by passing our credentials and the OSDU data partition we want to\n",
    "make requests to.\"\"\"\n",
    "client = OsduClient(server_url=osdu_np_server,\n",
    "                    data_partition=os.environ[\"osdu_npdev_data_partition_id\"],\n",
    "                    credentials=credentials\n",
    "                    )"
   ]
  },
  {
   "cell_type": "code",
   "execution_count": 7,
   "metadata": {},
   "outputs": [
    {
     "name": "stdout",
     "output_type": "stream",
     "text": [
      "A local browser window will be open for you to sign in. CTRL+C to cancel.\n"
     ]
    },
    {
     "data": {
      "text/plain": [
       "{'name': 'npequinor-dev-equinor-private-default',\n",
       " 'description': 'A default legaltag to be used for Equinor data',\n",
       " 'properties': {'countryOfOrigin': ['NO'],\n",
       "  'contractId': 'Unknown',\n",
       "  'expirationDate': '9999-12-31',\n",
       "  'originator': 'Equinor',\n",
       "  'dataType': 'First Party Data',\n",
       "  'securityClassification': 'Private',\n",
       "  'personalData': 'No Personal Data',\n",
       "  'exportClassification': 'No License Required'}}"
      ]
     },
     "execution_count": 7,
     "metadata": {},
     "output_type": "execute_result"
    }
   ],
   "source": [
    "\"\"\"\n",
    "GET REQUEST: Listing legal tags.\n",
    "\n",
    "Then we make a GET request in the same way as we did before.\n",
    "\"\"\"\n",
    "\n",
    "osdu_np_server = os.environ[\"osdu_np_server\"]\n",
    "headers = client.get_headers()\n",
    "\n",
    "resp = requests.request(\n",
    "    \"GET\",\n",
    "    url = f\"{osdu_np_server}/legal/v1/legaltags?valid=true\",\n",
    "    headers=headers\n",
    ")\n",
    "\n",
    "resp.json()['legalTags'][0]"
   ]
  },
  {
   "cell_type": "code",
   "execution_count": 8,
   "metadata": {},
   "outputs": [
    {
     "data": {
      "text/plain": [
       "[{'key': 'eqnr:smda-api-v2.0:wellbore-alias:1.0.0', 'count': 747693},\n",
       " {'key': 'eqnr:iEnergy-diskos:linesegmentgeometries:1.0.0', 'count': 167619},\n",
       " {'key': 'osdu:wks:work-product-component--SeismicLineGeometry:1.0.0',\n",
       "  'count': 167619},\n",
       " {'key': 'eqnr:smda-api-v2.0:wellheaders:1.0.0', 'count': 151456},\n",
       " {'key': 'osdu:wks:master-data--Wellbore:1.1.0', 'count': 151048}]"
      ]
     },
     "execution_count": 8,
     "metadata": {},
     "output_type": "execute_result"
    }
   ],
   "source": [
    "\"\"\"\n",
    "POST REQUEST: OSDU aggregated records by schema kind.\n",
    "\n",
    "Then we make a POST request in the same way as we did before.\n",
    "\"\"\"\n",
    "\n",
    "osdu_np_server = os.environ[\"osdu_np_server\"]\n",
    "schema_kinds = \"*:*:*:*\"\n",
    "payload = payload = {\"kind\": schema_kinds, 'aggregateBy': 'kind', 'query': \"*\"}\n",
    "headers = client.get_headers()\n",
    "\n",
    "resp = requests.request(\n",
    "    \"POST\",\n",
    "    url = f\"{osdu_np_server}/search/v2/query\",\n",
    "    data = json.dumps(payload),\n",
    "    headers=headers\n",
    ")\n",
    "\n",
    "resp.json()['aggregations'][:5]"
   ]
  },
  {
   "cell_type": "code",
   "execution_count": null,
   "metadata": {},
   "outputs": [],
   "source": []
  }
 ],
 "metadata": {
  "kernelspec": {
   "display_name": "venv",
   "language": "python",
   "name": "python3"
  },
  "language_info": {
   "codemirror_mode": {
    "name": "ipython",
    "version": 3
   },
   "file_extension": ".py",
   "mimetype": "text/x-python",
   "name": "python",
   "nbconvert_exporter": "python",
   "pygments_lexer": "ipython3",
   "version": "3.9.13"
  },
  "orig_nbformat": 4
 },
 "nbformat": 4,
 "nbformat_minor": 2
}
