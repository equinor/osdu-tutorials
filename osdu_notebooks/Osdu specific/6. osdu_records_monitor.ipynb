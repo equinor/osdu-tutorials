{
 "cells": [
  {
   "attachments": {},
   "cell_type": "markdown",
   "metadata": {},
   "source": [
    "## Monitor schemas counts - OSDU\n",
    "\n",
    "This notebook is intended to run once a day to gatter the counts by kind, time stamp them and append it to the spark table \"OSDU_schema_counts\", which is connected to the [OSDU metrics Power BI report](https://app.powerbi.com/groups/488759ef-47c7-4ee5-8fd8-25fc16dc5468/reports/ec64e727-9c8b-4189-bcbc-1b2f486908f5/ReportSection89b287e681d8e41e0363).\n",
    "\n",
    "Find here the [synapse notebook](https://web.azuresynapse.net/en/authoring/analyze/notebooks/00_Monitor_Schemas?workspace=%2Fsubscriptions%2F36edefc2-154f-412b-aef5-5bf1ad68b170%2FresourceGroups%2Fosdu-common-rg%2Fproviders%2FMicrosoft.Synapse%2Fworkspaces%2Fosdu-synapse)."
   ]
  },
  {
   "cell_type": "code",
   "execution_count": 1,
   "metadata": {},
   "outputs": [
    {
     "data": {
      "text/plain": [
       "True"
      ]
     },
     "execution_count": 1,
     "metadata": {},
     "output_type": "execute_result"
    }
   ],
   "source": [
    "from libs.osdu_service.osdu_http_client import OsduHttpClient\n",
    "from datetime import datetime\n",
    "from libs.utilities import response2df, format_date_new\n",
    "import pandas as pd\n",
    "\n",
    "# Adding .env file variables as environment variables\n",
    "from dotenv import load_dotenv\n",
    "load_dotenv()"
   ]
  },
  {
   "cell_type": "code",
   "execution_count": 2,
   "metadata": {},
   "outputs": [
    {
     "name": "stdout",
     "output_type": "stream",
     "text": [
      "Working on OSDU environment npequinor-test\n",
      "Working on OSDU environment npequinor-dev\n",
      "Working on OSDU environment equinor-data\n",
      "650/650"
     ]
    }
   ],
   "source": [
    "\"\"\"Time stamp to be attached.\"\"\"\n",
    "\n",
    "base = datetime.utcnow().isoformat()\n",
    "base = format_date_new(base)\n",
    "\n",
    "\n",
    "\"\"\"OSDU environments to loop through.\"\"\"\n",
    "osdu_envs = [ \"npequinor-test\", \"npequinor-dev\", \"equinor-data\"]\n",
    "\n",
    "\n",
    "\"\"\"Payload to be sent as the body of the requests.\"\"\"\n",
    "realtive_uri = \"search/v2/query\"\n",
    "payload = {\n",
    "    \"kind\": \"*:*:*:*\",\n",
    "    \"limit\": 1000,\n",
    "    'aggregateBy': \"kind\",\n",
    "    \"query\": \"*\"\n",
    "    }\n",
    "\n",
    "\n",
    "\"\"\"OSDU aggregated records.\"\"\"\n",
    "full_resp = []\n",
    "for env in osdu_envs:\n",
    "    try:\n",
    "        print(f'Working on OSDU environment {env}')\n",
    "\n",
    "        # Osdu Public Client\n",
    "        osdu_env = OsduHttpClient(env, client_type=\"public-client\")\n",
    "        # osdu_env = OsduHttpClient(env, client_type=\"private-client\")\n",
    "        # osdu_env = OsduHttpClient(env, client_type = \"token-client\")\n",
    "        \n",
    "        # POST request to OSDU search API\n",
    "        resp = osdu_env.app_post_returning_json(\n",
    "            realtive_uri,\n",
    "            payload\n",
    "        )\n",
    "        \n",
    "        resp = resp['aggregations']\n",
    "        for record in resp:\n",
    "            record['kind'] = record.pop('key')\n",
    "            record['captureDate'] = base\n",
    "            record['osdu_env'] = env\n",
    "\n",
    "        full_resp.extend(resp)\n",
    "    except:\n",
    "        continue\n",
    "\n",
    "\"\"\"Let's flatten the response to a DataFrame.\"\"\"\n",
    "df_counts = response2df(full_resp)\n"
   ]
  },
  {
   "cell_type": "code",
   "execution_count": 3,
   "metadata": {},
   "outputs": [
    {
     "data": {
      "text/plain": [
       "count                                                   28857292\n",
       "kind           osdu:wks:dataset--File.Generic:1.0.0eqnr:smda-...\n",
       "captureDate    2023-10-06 12:33:51.6702362023-10-06 12:33:51....\n",
       "osdu_env       npequinor-testnpequinor-testnpequinor-testnpeq...\n",
       "dtype: object"
      ]
     },
     "execution_count": 3,
     "metadata": {},
     "output_type": "execute_result"
    }
   ],
   "source": [
    "df_counts['count'] =df_counts['count'].astype(int)\n",
    "df_counts.sum()"
   ]
  },
  {
   "cell_type": "code",
   "execution_count": 4,
   "metadata": {},
   "outputs": [
    {
     "data": {
      "text/html": [
       "<div>\n",
       "<style scoped>\n",
       "    .dataframe tbody tr th:only-of-type {\n",
       "        vertical-align: middle;\n",
       "    }\n",
       "\n",
       "    .dataframe tbody tr th {\n",
       "        vertical-align: top;\n",
       "    }\n",
       "\n",
       "    .dataframe thead th {\n",
       "        text-align: right;\n",
       "    }\n",
       "</style>\n",
       "<table border=\"1\" class=\"dataframe\">\n",
       "  <thead>\n",
       "    <tr style=\"text-align: right;\">\n",
       "      <th></th>\n",
       "      <th>count</th>\n",
       "      <th>kind</th>\n",
       "      <th>captureDate</th>\n",
       "      <th>osdu_env</th>\n",
       "    </tr>\n",
       "  </thead>\n",
       "  <tbody>\n",
       "    <tr>\n",
       "      <th>8</th>\n",
       "      <td>18875</td>\n",
       "      <td>eqnr:iEnergy-sdb:seismicpoststackdatasets:1.0.0</td>\n",
       "      <td>2023-10-06 12:33:51.670236</td>\n",
       "      <td>npequinor-test</td>\n",
       "    </tr>\n",
       "    <tr>\n",
       "      <th>10</th>\n",
       "      <td>18824</td>\n",
       "      <td>eqnr:iEnergy-sdb:poststackcubegeometries:1.0.0</td>\n",
       "      <td>2023-10-06 12:33:51.670236</td>\n",
       "      <td>npequinor-test</td>\n",
       "    </tr>\n",
       "    <tr>\n",
       "      <th>11</th>\n",
       "      <td>18824</td>\n",
       "      <td>eqnr:iEnergy-sdb:poststackcubes:1.0.0</td>\n",
       "      <td>2023-10-06 12:33:51.670236</td>\n",
       "      <td>npequinor-test</td>\n",
       "    </tr>\n",
       "    <tr>\n",
       "      <th>17</th>\n",
       "      <td>4486</td>\n",
       "      <td>eqnr:iEnergy-diskos:navigationsets:1.0.0</td>\n",
       "      <td>2023-10-06 12:33:51.670236</td>\n",
       "      <td>npequinor-test</td>\n",
       "    </tr>\n",
       "    <tr>\n",
       "      <th>20</th>\n",
       "      <td>3245</td>\n",
       "      <td>eqnr:iEnergy-sdb:navigationsets:1.0.0</td>\n",
       "      <td>2023-10-06 12:33:51.670236</td>\n",
       "      <td>npequinor-test</td>\n",
       "    </tr>\n",
       "  </tbody>\n",
       "</table>\n",
       "</div>"
      ],
      "text/plain": [
       "    count                                             kind   \n",
       "8   18875  eqnr:iEnergy-sdb:seismicpoststackdatasets:1.0.0  \\\n",
       "10  18824   eqnr:iEnergy-sdb:poststackcubegeometries:1.0.0   \n",
       "11  18824            eqnr:iEnergy-sdb:poststackcubes:1.0.0   \n",
       "17   4486         eqnr:iEnergy-diskos:navigationsets:1.0.0   \n",
       "20   3245            eqnr:iEnergy-sdb:navigationsets:1.0.0   \n",
       "\n",
       "                   captureDate        osdu_env  \n",
       "8   2023-10-06 12:33:51.670236  npequinor-test  \n",
       "10  2023-10-06 12:33:51.670236  npequinor-test  \n",
       "11  2023-10-06 12:33:51.670236  npequinor-test  \n",
       "17  2023-10-06 12:33:51.670236  npequinor-test  \n",
       "20  2023-10-06 12:33:51.670236  npequinor-test  "
      ]
     },
     "execution_count": 4,
     "metadata": {},
     "output_type": "execute_result"
    }
   ],
   "source": [
    "\"\"\"Seismic Databank Records\"\"\"\n",
    "df_counts[df_counts.kind.isin([i for i in df_counts.kind if \"iEnergy\" in i])].head(5)"
   ]
  },
  {
   "cell_type": "code",
   "execution_count": null,
   "metadata": {},
   "outputs": [],
   "source": []
  }
 ],
 "metadata": {
  "kernelspec": {
   "display_name": "venv",
   "language": "python",
   "name": "python3"
  },
  "language_info": {
   "codemirror_mode": {
    "name": "ipython",
    "version": 3
   },
   "file_extension": ".py",
   "mimetype": "text/x-python",
   "name": "python",
   "nbconvert_exporter": "python",
   "pygments_lexer": "ipython3",
   "version": "3.9.13"
  },
  "orig_nbformat": 4
 },
 "nbformat": 4,
 "nbformat_minor": 2
}
