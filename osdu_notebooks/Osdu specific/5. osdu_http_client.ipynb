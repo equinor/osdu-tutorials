{
 "cells": [
  {
   "attachments": {},
   "cell_type": "markdown",
   "metadata": {},
   "source": [
    "## Abstracting OSDU Request Service by inheriting the ConfigOsduEnvironment class.\n",
    "\n",
    "Previouosly we created a ConfigOsduEnvironment Class in order to retrieve the variables needed to set up the OSDU client based on the environment we want to target (3. osdu_environment_config.ipynb).\n",
    "\n",
    "Now, in the following notebook we create an OsduHttpClient class intended to be used to sent GET, POST, and PUT requestS to OSDU. The OsduHttpClient class receives the osdu environment name (data partition ids: \"npequinor-test\", \"npequinor-dev\", and \"equinor-data\") and a booleand which defines whether we want to use a public or private client_id, then we instantiate an OsduClient using the OSDU SDK, and create our request methods based on this last which recieve the relative API endpoint uri we want to target.\n",
    "\n",
    "Finally we make a GET and POST requests to OSDU using our OsduHttpClient class."
   ]
  },
  {
   "cell_type": "code",
   "execution_count": null,
   "metadata": {},
   "outputs": [],
   "source": [
    "\"\"\"\n",
    "REMARK:\n",
    "\n",
    "This class is also moved to osdu_notebooks/libs/osdu_service/osdu_http_client.py\n",
    "\"\"\""
   ]
  },
  {
   "cell_type": "code",
   "execution_count": 1,
   "metadata": {},
   "outputs": [
    {
     "data": {
      "text/plain": [
       "True"
      ]
     },
     "execution_count": 1,
     "metadata": {},
     "output_type": "execute_result"
    }
   ],
   "source": [
    "from libs.osdu_service.osdu_environment_config import ConfigOsduEnvironment\n",
    "\n",
    "from msal import ConfidentialClientApplication\n",
    "from osdu.identity import OsduMsalNonInteractiveCredential, OsduMsalInteractiveCredential, OsduTokenCredential\n",
    "from osdu.client import OsduClient\n",
    "\n",
    "from typing import Union\n",
    "import os\n",
    "\n",
    "# Adding .env file variables as environment variables\n",
    "from dotenv import load_dotenv\n",
    "load_dotenv()"
   ]
  },
  {
   "cell_type": "code",
   "execution_count": 2,
   "metadata": {},
   "outputs": [],
   "source": [
    "class OsduHttpClient(ConfigOsduEnvironment):\n",
    "    \n",
    "    \"\"\"\n",
    "    Gets the configuration values according to the environment to target\n",
    "    and the kind of authentication/authorization to be used and createS\n",
    "    an OsduClient client that can be used to make requests to OSDU.\n",
    "    \n",
    "    osdu_environment: \"npequinor-test\", \"npequinor-dev\", or \"equinor-data\",\n",
    "    client_type: \"public-client\", \"private-client\", or \"token-client\".\n",
    "    The osdu_cli_client (public-client) set as default.\n",
    "    \"\"\"\n",
    "    \n",
    "    def __init__(self, osdu_environment:str, client_type=\"public-client\"):\n",
    "        ConfigOsduEnvironment.__init__(self, osdu_environment, client_type)\n",
    "        if client_type == \"public-client\":\n",
    "            self.osdu_client: OsduClient = self._get_osdu_public_client\n",
    "        elif client_type == \"private-client\":\n",
    "            self.osdu_client: OsduClient = self._get_osdu_private_client\n",
    "        elif client_type == \"token-client\":\n",
    "            self.osdu_client: OsduClient = self._get_osdu_token_client\n",
    "    \n",
    "    @property\n",
    "    def _get_osdu_private_client(self):\n",
    "        resource_id = self.env_variables['resource_id']\n",
    "        scopes = f'{resource_id}/.default openid profile offline_access'\n",
    "        authority = f\"https://login.microsoftonline.com/{self.env_variables['tenant_id']}\"\n",
    "\n",
    "        private_app = ConfidentialClientApplication(\n",
    "            client_id = self.env_variables['client_id'],\n",
    "            client_credential = self.env_variables['client_secret'],\n",
    "            authority = authority\n",
    "            )\n",
    "\n",
    "        credentials = OsduMsalNonInteractiveCredential(\n",
    "            client_id = self.env_variables['client_id'],\n",
    "            client_secret = self.env_variables['client_secret'],\n",
    "            authority = authority,\n",
    "            scopes = scopes,\n",
    "            client = private_app\n",
    "        )\n",
    "\n",
    "        return OsduClient(\n",
    "            server_url = self.env_variables['url'],\n",
    "            data_partition = self.env_variables['data_partition_id'],\n",
    "            credentials = credentials,\n",
    "            retries = 5\n",
    "        )\n",
    "    \n",
    "    @property\n",
    "    def _get_osdu_public_client(self):\n",
    "        resource_id = self.env_variables['resource_id']\n",
    "        scopes = f'{resource_id}/.default openid'\n",
    "        authority = f\"https://login.microsoftonline.com/{self.env_variables['tenant_id']}\"\n",
    "        \n",
    "        credentials = OsduMsalInteractiveCredential(\n",
    "            client_id = self.env_variables['client_id'],\n",
    "            authority = authority,\n",
    "            scopes=scopes,\n",
    "            token_cache=\"token_cache.txt\"\n",
    "        )\n",
    "        \n",
    "        return OsduClient(\n",
    "            server_url = self.env_variables['url'],\n",
    "            data_partition = self.env_variables['data_partition_id'],\n",
    "            credentials=credentials\n",
    "        )\n",
    "        \n",
    "    @property\n",
    "    def _get_osdu_token_client(self):\n",
    "        tenant_id = self.env_variables['tenant_id']\n",
    "        token_endpoint = f'https://login.microsoftonline.com/{tenant_id}/oauth2/v2.0/token'\n",
    "        \n",
    "        credentials = OsduTokenCredential(\n",
    "            client_id=self.env_variables['client_id'],\n",
    "            token_endpoint=token_endpoint,\n",
    "            refresh_token=os.environ[self.env_variables['refresh_token_key']],\n",
    "            client_secret=self.env_variables['client_secret']\n",
    "        )\n",
    "        \n",
    "        return OsduClient(\n",
    "            server_url = self.env_variables['url'],\n",
    "            data_partition = self.env_variables['data_partition_id'],\n",
    "            credentials=credentials\n",
    "        )\n",
    "        \n",
    "        \n",
    "    def app_get_returning_json(self, service_relative_uri: str) -> dict:\n",
    "        \n",
    "        service_uri = f\"{self.env_variables['url']}/{service_relative_uri}\"\n",
    "        response = self.osdu_client.get_returning_json(service_uri)\n",
    "        \n",
    "        return response\n",
    "    \n",
    "    def app_post_returning_json(self, service_relative_uri: str, payload:dict) -> dict:\n",
    "        \n",
    "        service_uri = f\"{self.env_variables['url']}/{service_relative_uri}\"\n",
    "        response = self.osdu_client.post_returning_json(\n",
    "            service_uri,\n",
    "            payload\n",
    "        )\n",
    "        \n",
    "        return response\n",
    "    \n",
    "    def app_put_returning_json(self, service_relative_uri: str, data: Union[str, dict], ok_status_codes: list = None):\n",
    "        \n",
    "        service_uri = f\"{self.env_variables['url']}/{service_relative_uri}\"\n",
    "        if ok_status_codes is None:\n",
    "                ok_status_codes = [201]\n",
    "        response = self.osdu_client.put_returning_json(\n",
    "            service_uri,\n",
    "            data,\n",
    "            ok_status_codes\n",
    "        )\n",
    "        return response\n",
    "    \n",
    "    def app_query_with_cursor(self, service_relative_uri:str, payload):\n",
    "            \n",
    "        cursor = \"\"\n",
    "        results = []\n",
    "        service_uri = f\"{self.env_variables['url']}/{service_relative_uri}\"\n",
    "        while True:\n",
    "            payload[\"cursor\"] = cursor\n",
    "            response = self.osdu_client.post_returning_json(\n",
    "                service_uri,\n",
    "                payload\n",
    "            )\n",
    "            if response[\"results\"]:\n",
    "                results.extend(response[\"results\"])\n",
    "            cursor = response.get[\"cursor\"]\n",
    "            if cursor is None:\n",
    "                break\n",
    "            \n",
    "        return results    "
   ]
  },
  {
   "cell_type": "code",
   "execution_count": 3,
   "metadata": {},
   "outputs": [
    {
     "data": {
      "text/plain": [
       "{'osdu_environment': 'equinor-data',\n",
       " 'url': 'https://equinor.energy.azure.com/api',\n",
       " 'resource_id': '5a1178c2-5867-4a34-8fb8-216164e30b5f',\n",
       " 'client_id': '7a414874-4b27-4378-b34f-bc9e5a5faa4f',\n",
       " 'client_secret': None,\n",
       " 'data_partition_id': 'equinor-data',\n",
       " 'tenant_id': '3aa4a235-b6e2-48d5-9195-7fcf05b459b0',\n",
       " 'refresh_token_key': None}"
      ]
     },
     "execution_count": 3,
     "metadata": {},
     "output_type": "execute_result"
    }
   ],
   "source": [
    "\"\"\"\n",
    "Instantiating our newly created class.\n",
    "Test getting osdu_environment variables. Possible osdu_environment values are: \"npequinor-test\", \"npequinor-dev\", and \"equinor-data\"\n",
    "\"\"\"\n",
    "# client = OsduHttpClient(\"npequinor-dev\", client_type=\"public-client\")\n",
    "# client = OsduHttpClient(\"npequinor-test\", client_type = \"public-client\")\n",
    "client = OsduHttpClient(\"equinor-data\", client_type = \"public-client\")\n",
    "client.env_variables"
   ]
  },
  {
   "cell_type": "code",
   "execution_count": 4,
   "metadata": {},
   "outputs": [
    {
     "data": {
      "text/plain": [
       "{'name': 'equinor-data-npequinor-dev-Wellbore-Legal-Tag-Test3130799',\n",
       " 'description': 'Legal Tag added for Wellbore',\n",
       " 'properties': {'countryOfOrigin': ['US', 'CA'],\n",
       "  'contractId': '123456',\n",
       "  'expirationDate': '2025-12-25',\n",
       "  'originator': 'Schlumberger',\n",
       "  'dataType': 'Public Domain Data',\n",
       "  'securityClassification': 'Private',\n",
       "  'personalData': 'No Personal Data',\n",
       "  'exportClassification': 'EAR99'}}"
      ]
     },
     "execution_count": 4,
     "metadata": {},
     "output_type": "execute_result"
    }
   ],
   "source": [
    "\"\"\"\n",
    "GET REQUEST: Listing legal tags.\n",
    "\"\"\"\n",
    "\n",
    "relative_url = \"legal/v1/legaltags?valid=true\"\n",
    "\n",
    "res = client.app_get_returning_json(\n",
    "    relative_url\n",
    ")\n",
    "\n",
    "res['legalTags'][0]"
   ]
  },
  {
   "cell_type": "code",
   "execution_count": 5,
   "metadata": {},
   "outputs": [
    {
     "data": {
      "text/plain": [
       "[{'key': 'osdu:wks:dataset--File.Generic:1.0.0', 'count': 20383059},\n",
       " {'key': 'osdu:wks:work-product-component--WellLog:1.2.0', 'count': 1869510},\n",
       " {'key': 'eqnr:smda-api-v2.0:wellbore-alias:1.0.0', 'count': 803295},\n",
       " {'key': 'eqnr:smda-api-v2.0:wellheaders:1.0.0', 'count': 152908},\n",
       " {'key': 'osdu:wks:master-data--Wellbore:1.1.0', 'count': 152704}]"
      ]
     },
     "execution_count": 5,
     "metadata": {},
     "output_type": "execute_result"
    }
   ],
   "source": [
    "\"\"\"\n",
    "POST REQUEST: OSDU aggregated records by schema kind.\n",
    "\"\"\"\n",
    "\n",
    "payload = payload = {\"kind\": \"*:*:*:*\", 'aggregateBy': 'kind', 'query': \"*\"}\n",
    "relative_url = \"search/v2/query\"\n",
    "\n",
    "res = client.app_post_returning_json(\n",
    "    relative_url,\n",
    "    payload\n",
    ")\n",
    "\n",
    "res['aggregations'][:5]"
   ]
  },
  {
   "cell_type": "code",
   "execution_count": null,
   "metadata": {},
   "outputs": [],
   "source": []
  }
 ],
 "metadata": {
  "kernelspec": {
   "display_name": "venv",
   "language": "python",
   "name": "python3"
  },
  "language_info": {
   "codemirror_mode": {
    "name": "ipython",
    "version": 3
   },
   "file_extension": ".py",
   "mimetype": "text/x-python",
   "name": "python",
   "nbconvert_exporter": "python",
   "pygments_lexer": "ipython3",
   "version": "3.9.13"
  },
  "orig_nbformat": 4
 },
 "nbformat": 4,
 "nbformat_minor": 2
}
