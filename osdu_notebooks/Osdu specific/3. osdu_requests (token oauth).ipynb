{
 "cells": [
  {
   "attachments": {},
   "cell_type": "markdown",
   "metadata": {},
   "source": [
    "## Interactive Authentication to OSDU\n",
    "\n",
    "This notebook is intended to serve as introduction on how to send API requests to OSDU using an refresh_token OAuth 2.0 methodology. The notebook targets the non-production data partition and server. It requires a non-production data partition/environment refresh_token obtained from Postman. If you want to target the production data partition, make sure you obtain a refresh token from the production data partition in Postamn and change the server_id and data_partition_id accordingly.\n",
    "\n",
    "What is OAuth?\n",
    "OAuth 2.0, which stands for \"Open Authorization,\" is a standard designed to allow a website or application to access resources hosted by other web applications on behalf of a user.\n",
    "\n",
    "The notebooks covers the following points:\n",
    "\n",
    "1. Sending GET and POST request by requesting an access token.\n",
    "2. Sending GET and POST request using OSDU SDK (OsduTokenCredential)."
   ]
  },
  {
   "cell_type": "code",
   "execution_count": null,
   "metadata": {},
   "outputs": [],
   "source": [
    "\"\"\"\n",
    "REMARK:\n",
    "\n",
    "This notebook is intended for educative purposes.\n",
    "Its content will be abstracted from the user when uisng the OSDU SDK and during the OSDU http client class service (5. osdu_http_client.ipynb).\n",
    "\"\"\""
   ]
  },
  {
   "attachments": {},
   "cell_type": "markdown",
   "metadata": {},
   "source": [
    "##### 1. Sending GET and POST request by requesting an access token"
   ]
  },
  {
   "cell_type": "code",
   "execution_count": 2,
   "metadata": {},
   "outputs": [
    {
     "data": {
      "text/plain": [
       "True"
      ]
     },
     "execution_count": 2,
     "metadata": {},
     "output_type": "execute_result"
    }
   ],
   "source": [
    "from urllib.request import Request, urlopen\n",
    "from urllib.parse import urlencode\n",
    "from urllib.error import HTTPError\n",
    "from json import loads\n",
    "import requests\n",
    "import os, json\n",
    "\n",
    "# Adding .env file variables as environment variables\n",
    "from dotenv import load_dotenv\n",
    "load_dotenv()"
   ]
  },
  {
   "cell_type": "code",
   "execution_count": 3,
   "metadata": {},
   "outputs": [],
   "source": [
    "body = {\n",
    "    \"client_id\": os.environ['token_client_id'],\n",
    "    \"client_secret\": os.environ['token_client_secret'],\n",
    "    \"refresh_token\": os.environ['token_client_refresh_token_non_prod'],\n",
    "    \"grant_type\": \"refresh_token\"\n",
    "}"
   ]
  },
  {
   "cell_type": "code",
   "execution_count": 5,
   "metadata": {},
   "outputs": [],
   "source": [
    "\"\"\"\n",
    "The authentication/authorization requires an application to have been regitered within Azure under\n",
    "EQN tenancy, which will provide the application with a client_id.\n",
    "\n",
    "Once the previous is done the application will require to have access to the OSDU main principals\n",
    "for DEV, TEST, and PROD, so that we can make requests to OSDU using its client_id.\n",
    "\n",
    "The application can be either a PublicClientApplication or ConfidentialClientApplication.\n",
    "We will use a ConfidentialClientApplication for this example to first request an access token\n",
    "using a refresh token and then pass the access token as parameter when sending a request to OSDU.\n",
    "\"\"\"\n",
    "\n",
    "tenant_id = os.environ['tenant_id']\n",
    "token_endpoint = f'https://login.microsoftonline.com/{tenant_id}/oauth2/v2.0/token'\n",
    "\n",
    "body = {\n",
    "    \"client_id\": os.environ['token_client_id'],\n",
    "    \"client_secret\": os.environ['token_client_secret'],\n",
    "    \"refresh_token\": os.environ['token_client_refresh_token_non_prod'],\n",
    "    \"grant_type\": \"refresh_token\"\n",
    "}\n",
    "\n",
    "headers = {\"Content-Type\": \"application/x-www-form-urlencoded\"}\n",
    "\n",
    "data = urlencode(body).encode('utf-8')\n",
    "request = Request(url=token_endpoint, data=data, headers=headers)\n",
    "\n",
    "with urlopen(request) as response:\n",
    "    response_body = response.read()\n",
    "    access_token = loads(response_body)['access_token']"
   ]
  },
  {
   "cell_type": "code",
   "execution_count": 6,
   "metadata": {},
   "outputs": [
    {
     "data": {
      "text/plain": [
       "{'name': 'npequinor-dev-equinor-private-default',\n",
       " 'description': 'A default legaltag to be used for Equinor data',\n",
       " 'properties': {'countryOfOrigin': ['NO'],\n",
       "  'contractId': 'Unknown',\n",
       "  'expirationDate': '9999-12-31',\n",
       "  'originator': 'Equinor',\n",
       "  'dataType': 'First Party Data',\n",
       "  'securityClassification': 'Private',\n",
       "  'personalData': 'No Personal Data',\n",
       "  'exportClassification': 'No License Required'}}"
      ]
     },
     "execution_count": 6,
     "metadata": {},
     "output_type": "execute_result"
    }
   ],
   "source": [
    "\n",
    "\"\"\"\n",
    "GET REQUEST: Listing legal tags.\n",
    "\n",
    "To make a request to OSDU, we need to append the access token and also the osdu data partition id\n",
    "{PROD: \"equinor-data\", TEST: \"npequinor-test\", DEV: \"npequinor-dev\"} we aim to target. \n",
    "\"\"\"\n",
    "\n",
    "headers={\n",
    "    \"Authorization\": f\"Bearer {access_token}\",\n",
    "    \"Content-Type\": \"application/json\",\n",
    "    'Accept': 'application/json',\n",
    "    \"data-partition-id\": os.environ['osdu_npdev_data_partition_id'],        \n",
    "}\n",
    "\n",
    "\n",
    "\"\"\"Sending a GET request\"\"\"\n",
    "\n",
    "resp = requests.request(\n",
    "    \"GET\",\n",
    "    url = f\"{os.environ['osdu_np_server']}/legal/v1/legaltags?valid=true\",\n",
    "    headers=headers\n",
    ")\n",
    "\n",
    "\n",
    "\"\"\"Printing first legal in the response\"\"\"\n",
    "\n",
    "resp.json()['legalTags'][0]"
   ]
  },
  {
   "cell_type": "code",
   "execution_count": 7,
   "metadata": {},
   "outputs": [
    {
     "data": {
      "text/plain": [
       "[{'key': 'eqnr:smda-api-v2.0:wellbore-alias:1.0.0', 'count': 747693},\n",
       " {'key': 'eqnr:iEnergy-diskos:linesegmentgeometries:1.0.0', 'count': 167619},\n",
       " {'key': 'osdu:wks:work-product-component--SeismicLineGeometry:1.0.0',\n",
       "  'count': 167619},\n",
       " {'key': 'eqnr:smda-api-v2.0:wellheaders:1.0.0', 'count': 151456},\n",
       " {'key': 'osdu:wks:master-data--Wellbore:1.1.0', 'count': 151048}]"
      ]
     },
     "execution_count": 7,
     "metadata": {},
     "output_type": "execute_result"
    }
   ],
   "source": [
    "\"\"\"\n",
    "POST REQUEST: OSDU aggregated records by schema kind.\n",
    "\n",
    "To make a request to OSDU, we need to append the access token and also the osdu data partition id\n",
    "{PROD: \"equinor-data\", TEST: \"npequinor-test\", DEV: \"npequinor-dev\"} we aim to target. \n",
    "\"\"\"\n",
    "\n",
    "headers={\n",
    "    \"Authorization\": f\"Bearer {access_token}\",\n",
    "    \"Content-Type\": \"application/json\",\n",
    "    \"data-partition-id\": os.environ['osdu_npdev_data_partition_id'],        \n",
    "}\n",
    "\n",
    "schema_kinds = \"*:*:*:*\"\n",
    "payload = payload = {\"kind\": schema_kinds, 'aggregateBy': 'kind', 'query': \"*\"}\n",
    "\n",
    "\n",
    "\"\"\"Sending a POST request\"\"\"\n",
    "\n",
    "resp = requests.request(\n",
    "    \"POST\",\n",
    "    url = f\"{os.environ['osdu_np_server']}/search/v2/query\",\n",
    "    data = json.dumps(payload),\n",
    "    headers=headers\n",
    ")\n",
    "\n",
    "\n",
    "\"\"\"Printing first aggregations in the response\"\"\"\n",
    "\n",
    "resp.json()['aggregations'][:5]"
   ]
  },
  {
   "attachments": {},
   "cell_type": "markdown",
   "metadata": {},
   "source": [
    "##### 2. Sending GET and POST request using OSDU SDK (OsduTokenCredential)."
   ]
  },
  {
   "cell_type": "code",
   "execution_count": 8,
   "metadata": {},
   "outputs": [],
   "source": [
    "from osdu.identity import OsduTokenCredential\n",
    "from osdu.client import OsduClient"
   ]
  },
  {
   "cell_type": "code",
   "execution_count": 9,
   "metadata": {},
   "outputs": [],
   "source": [
    "\"\"\"\n",
    "Instantiating our OSDU client, which will request an access_token each time we send a request to OSDU.\n",
    "\"\"\"\n",
    "\n",
    "tenant_id = os.environ['tenant_id']\n",
    "token_endpoint = f'https://login.microsoftonline.com/{tenant_id}/oauth2/v2.0/token'\n",
    "\n",
    "credential = OsduTokenCredential(\n",
    "    client_id=os.environ['token_client_id'],\n",
    "    client_secret=os.environ['token_client_secret'],\n",
    "    refresh_token=os.environ['token_client_refresh_token_non_prod'],\n",
    "    token_endpoint=token_endpoint,\n",
    ")\n",
    "\n",
    "client = OsduClient(\n",
    "    os.environ['osdu_np_server'],\n",
    "    os.environ['osdu_npdev_data_partition_id'],\n",
    "    credentials=credential\n",
    ")"
   ]
  },
  {
   "cell_type": "code",
   "execution_count": 10,
   "metadata": {},
   "outputs": [
    {
     "data": {
      "text/plain": [
       "{'name': 'npequinor-dev-equinor-private-default',\n",
       " 'description': 'A default legaltag to be used for Equinor data',\n",
       " 'properties': {'countryOfOrigin': ['NO'],\n",
       "  'contractId': 'Unknown',\n",
       "  'expirationDate': '9999-12-31',\n",
       "  'originator': 'Equinor',\n",
       "  'dataType': 'First Party Data',\n",
       "  'securityClassification': 'Private',\n",
       "  'personalData': 'No Personal Data',\n",
       "  'exportClassification': 'No License Required'}}"
      ]
     },
     "execution_count": 10,
     "metadata": {},
     "output_type": "execute_result"
    }
   ],
   "source": [
    "\"\"\"\n",
    "GET REQUEST: Listing legal tags.\n",
    "\n",
    "Then we make a GET request in the same way as we did before.\n",
    "\"\"\"\n",
    "\n",
    "resp = client.get_returning_json(\n",
    "    url=f\"{os.environ['osdu_np_server']}/legal/v1/legaltags?valid=true\"\n",
    ")\n",
    "\n",
    "resp['legalTags'][0]"
   ]
  },
  {
   "cell_type": "code",
   "execution_count": 11,
   "metadata": {},
   "outputs": [],
   "source": [
    "\"\"\"\n",
    "POST REQUEST: OSDU aggregated records by schema kind.\n",
    "\n",
    "Then we make a POST request in the same way as we did before.\n",
    "\"\"\"\n",
    "\n",
    "schema_kinds = \"*:*:*:*\"\n",
    "payload = payload = {\"kind\": schema_kinds, 'aggregateBy': 'kind', 'query': \"*\"}\n",
    "\n",
    "resp = client.post_returning_json(\n",
    "    url=f\"{os.environ['osdu_np_server']}/search/v2/query\",\n",
    "    data=payload\n",
    ")"
   ]
  },
  {
   "cell_type": "code",
   "execution_count": 12,
   "metadata": {},
   "outputs": [
    {
     "data": {
      "text/plain": [
       "[{'key': 'eqnr:smda-api-v2.0:wellbore-alias:1.0.0', 'count': 747693},\n",
       " {'key': 'eqnr:iEnergy-diskos:linesegmentgeometries:1.0.0', 'count': 167619},\n",
       " {'key': 'osdu:wks:work-product-component--SeismicLineGeometry:1.0.0',\n",
       "  'count': 167619},\n",
       " {'key': 'eqnr:smda-api-v2.0:wellheaders:1.0.0', 'count': 151456},\n",
       " {'key': 'osdu:wks:master-data--Wellbore:1.1.0', 'count': 151048}]"
      ]
     },
     "execution_count": 12,
     "metadata": {},
     "output_type": "execute_result"
    }
   ],
   "source": [
    "resp['aggregations'][:5]"
   ]
  },
  {
   "cell_type": "code",
   "execution_count": null,
   "metadata": {},
   "outputs": [],
   "source": []
  }
 ],
 "metadata": {
  "kernelspec": {
   "display_name": "venv",
   "language": "python",
   "name": "python3"
  },
  "language_info": {
   "codemirror_mode": {
    "name": "ipython",
    "version": 3
   },
   "file_extension": ".py",
   "mimetype": "text/x-python",
   "name": "python",
   "nbconvert_exporter": "python",
   "pygments_lexer": "ipython3",
   "version": "3.9.13"
  },
  "orig_nbformat": 4
 },
 "nbformat": 4,
 "nbformat_minor": 2
}
