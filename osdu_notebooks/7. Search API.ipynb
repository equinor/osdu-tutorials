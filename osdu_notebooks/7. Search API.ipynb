{
 "cells": [
  {
   "attachments": {},
   "cell_type": "markdown",
   "metadata": {},
   "source": [
    "## OSDU Search API\n",
    "\n",
    "This notebook is intended to provide few practical examples on how to make search request to the OSDU search API. At the time of writting this notebook, the Search service works efficiently in the test environment. "
   ]
  },
  {
   "cell_type": "code",
   "execution_count": 1,
   "metadata": {},
   "outputs": [
    {
     "data": {
      "text/plain": [
       "True"
      ]
     },
     "execution_count": 1,
     "metadata": {},
     "output_type": "execute_result"
    }
   ],
   "source": [
    "from libs.osdu_service.osdu_http_client import OsduHttpClient\n",
    "import json\n",
    "\n",
    "# Adding .env file variables as environment variables\n",
    "from dotenv import load_dotenv\n",
    "load_dotenv()"
   ]
  },
  {
   "cell_type": "code",
   "execution_count": 2,
   "metadata": {},
   "outputs": [],
   "source": [
    "osdu_env = \"npequinor-test\"\n",
    "# osdu_env = \"npequinor-dev\"\n",
    "# osdu_env = \"equinor-data\"\n",
    "osdu_env = OsduHttpClient(osdu_env, client_type=\"public-client\")"
   ]
  },
  {
   "cell_type": "code",
   "execution_count": 3,
   "metadata": {},
   "outputs": [
    {
     "name": "stdout",
     "output_type": "stream",
     "text": [
      "\n",
      "    Results: 10\n",
      "    First item (Dataset--File.Generic): {\n",
      "    \"data\": {\n",
      "        \"Endian\": null,\n",
      "        \"Description\": null,\n",
      "        \"DatasetProperties.FileSourceInfo.ChecksumAlgorithm\": \"MD5\",\n",
      "        \"DatasetProperties.FileSourceInfo.PreloadFileCreateUser\": null,\n",
      "        \"ResourceLifecycleStatus\": null,\n",
      "        \"ResourceCurationStatus\": null,\n",
      "        \"TechnicalAssuranceID\": null,\n",
      "        \"Source\": \"WellDB\",\n",
      "        \"EncodingFormatTypeID\": null,\n",
      "        \"Name\": null,\n",
      "        \"DatasetProperties.FileSourceInfo.Checksum\": \"208a9e0036a3d6fea9e8d9e1a1c7fead\",\n",
      "        \"DatasetProperties.FileSourceInfo.FileSource\": \"/osdu-user/1676899622068-2023-02-20-13-27-02-068/a6dc65312c894f54bdae07b375cf3c07\",\n",
      "        \"ResourceHomeRegionID\": null,\n",
      "        \"DatasetProperties.FileSourceInfo.Name\": \"CT_00003.dcm\",\n",
      "        \"Checksum\": \"208a9e0036a3d6fea9e8d9e1a1c7fead\",\n",
      "        \"DatasetProperties.FileSourceInfo.PreloadFilePath\": null,\n",
      "        \"ResourceSecurityClassification\": \"npequinor-test:reference-data--ResourceSecurityClassification:RESTRICTED:\",\n",
      "        \"ExistenceKind\": null,\n",
      "        \"DatasetProperties.FileSourceInfo.EncodingFormatTypeID\": null,\n",
      "        \"DatasetProperties.FileSourceInfo.PreloadFileModifyUser\": null,\n",
      "        \"SchemaFormatTypeID\": null\n",
      "    },\n",
      "    \"kind\": \"osdu:wks:dataset--File.Generic:1.0.0\",\n",
      "    \"source\": \"wks\",\n",
      "    \"acl\": {\n",
      "        \"viewers\": [\n",
      "            \"data.norway.viewers@npequinor-test.dataservices.energy\",\n",
      "            \"data.datascientist.viewers@npequinor-test.dataservices.energy\",\n",
      "            \"data.fram.viewers@npequinor-test.dataservices.energy\"\n",
      "        ],\n",
      "        \"owners\": [\n",
      "            \"data.osdudevops.owners@npequinor-test.dataservices.energy\"\n",
      "        ]\n",
      "    },\n",
      "    \"type\": \"dataset--File.Generic\",\n",
      "    \"version\": 1676899624064027,\n",
      "    \"tags\": {\n",
      "        \"exportControl\": \"Yes\",\n",
      "        \"sourceSystem\": \"WellDB NO\",\n",
      "        \"securityClassification\": \"Internal\",\n",
      "        \"personalData\": \"No\",\n",
      "        \"inside\": \"No\",\n",
      "        \"sensitivityFlag\": \"null\",\n",
      "        \"dataID\": \"699 701 702 704 705 706 760 761 789 697 698 700 757 758\",\n",
      "        \"intellectualPropertyRight\": \"Not assessed yet\",\n",
      "        \"PreloadFilePath\": \"https://omniadlseun.dfs.core.windows.net/raw/data/WELLDB/NO/wells/0031/NO 31-2-22 S/11.Core_Data/INTERNAL/Dicoms/photo_filer/4404.00-4405.00/20220905_StudyDesc_28005/135kV/CT_00003.dcm\",\n",
      "        \"legalOwnership\": \"Joint venture\",\n",
      "        \"countryOfOrigin\": \"NO\",\n",
      "        \"businessCriticalData\": \"No\",\n",
      "        \"soxCriticalData\": \"Not assessed yet\"\n",
      "    },\n",
      "    \"createTime\": \"2023-02-20T13:27:04.071Z\",\n",
      "    \"authority\": \"osdu\",\n",
      "    \"namespace\": \"osdu:wks\",\n",
      "    \"legal\": {\n",
      "        \"legaltags\": [\n",
      "            \"npequinor-test-equinor-private-default\"\n",
      "        ],\n",
      "        \"otherRelevantDataCountries\": [\n",
      "            \"NO\"\n",
      "        ],\n",
      "        \"status\": \"compliant\"\n",
      "    },\n",
      "    \"createUser\": \"d7f37814-8a42-4066-953b-f65d5bf4c05d\",\n",
      "    \"id\": \"npequinor-test:dataset--File.Generic:1bded1f5-5ded-4860-9d2e-cc48f7ba9f44\"\n",
      "}\n",
      "    \n"
     ]
    }
   ],
   "source": [
    "\"\"\"[POST] Search by kind: osdu:wks:dataset--File.Generic:1.0.0\"\"\"\n",
    "\n",
    "data = {\n",
    "    \"kind\": \"osdu:wks:dataset--File.Generic:1.0.0\"\n",
    "}\n",
    "\n",
    "resp = osdu_env.app_post_returning_json(\n",
    "    service_relative_uri=\"search/v2/query\",\n",
    "    payload=data\n",
    "    )\n",
    "\n",
    "print(\n",
    "    f\"\"\"\n",
    "    Results: {len(resp['results'])}\n",
    "    First item (Dataset--File.Generic): {json.dumps(resp['results'][0], indent=4)}\n",
    "    \"\"\"\n",
    ")"
   ]
  },
  {
   "cell_type": "code",
   "execution_count": 4,
   "metadata": {},
   "outputs": [
    {
     "name": "stdout",
     "output_type": "stream",
     "text": [
      "\n",
      "    Results: 10\n",
      "    Work-product-component--WellLog: ['npequinor-test:master-data--Wellbore:ff113d0c-746f-11ed-8ab8-1a8f3e69d562:', 'npequinor-test:master-data--Wellbore:003ae566-7470-11ed-8ab8-1a8f3e69d562:', 'npequinor-test:master-data--Wellbore:7c27b6ce-7473-11ed-8ab8-1a8f3e69d562:', 'npequinor-test:master-data--Wellbore:003ae566-7470-11ed-8ab8-1a8f3e69d562:', 'npequinor-test:master-data--Wellbore:7c27b6ce-7473-11ed-8ab8-1a8f3e69d562:', 'npequinor-test:master-data--Wellbore:003ae566-7470-11ed-8ab8-1a8f3e69d562:', 'npequinor-test:master-data--Wellbore:003ae566-7470-11ed-8ab8-1a8f3e69d562:', 'npequinor-test:master-data--Wellbore:7c27b6ce-7473-11ed-8ab8-1a8f3e69d562:', 'npequinor-test:master-data--Wellbore:ff113d0c-746f-11ed-8ab8-1a8f3e69d562:', 'npequinor-test:master-data--Wellbore:003ae566-7470-11ed-8ab8-1a8f3e69d562:']\n",
      "    \n"
     ]
    }
   ],
   "source": [
    "\"\"\"[POST] Search by kind: osdu:wks:work-product-component--WellLog:1.2.0 and return WellboreIDs\"\"\"\n",
    "\n",
    "data = {\n",
    "    \"kind\": \"osdu:wks:work-product-component--WellLog:1.2.0\",\n",
    "    \"returnedFields\":[\"data.WellboreID\"]\n",
    "}\n",
    "\n",
    "resp = osdu_env.app_post_returning_json(\n",
    "    service_relative_uri=\"search/v2/query\",\n",
    "    payload=data\n",
    "    )\n",
    "\n",
    "print(\n",
    "    f\"\"\"\n",
    "    Results: {len(resp['results'])}\n",
    "    Work-product-component--WellLog: {[id['data']['WellboreID'] for id in resp['results']]}\n",
    "    \"\"\"\n",
    ")"
   ]
  },
  {
   "cell_type": "code",
   "execution_count": 5,
   "metadata": {},
   "outputs": [
    {
     "name": "stdout",
     "output_type": "stream",
     "text": [
      "\n",
      "    Results: 1\n",
      "    Master-data--Wellbore: [\n",
      "    {\n",
      "        \"data\": {\n",
      "            \"FacilityName\": \"NO 7220/11-5 S\"\n",
      "        },\n",
      "        \"id\": \"npequinor-test:master-data--Wellbore:ff113d0c-746f-11ed-8ab8-1a8f3e69d562\",\n",
      "        \"tags\": {\n",
      "            \"sourceSystem\": \"SMDA\"\n",
      "        }\n",
      "    }\n",
      "]\n",
      "    \n"
     ]
    }
   ],
   "source": [
    "\"\"\"[POST] Search by kind: osdu:wks:master-data--Wellbore:* and return WellboreIDs\"\"\"\n",
    "\n",
    "wellbore_id = \"npequinor-test:master-data--Wellbore:ff113d0c-746f-11ed-8ab8-1a8f3e69d562\"\n",
    "\n",
    "data = {\n",
    "        \"kind\": \"osdu:wks:master-data--Wellbore:*\",\n",
    "        \"query\": f\"id:\\\"{wellbore_id}\\\"\",\n",
    "        \"returnedFields\":[\"id\", \"data.FacilityName\", \"tags.sourceSystem\"]\n",
    "    }\n",
    "\n",
    "resp = osdu_env.app_post_returning_json(\n",
    "    service_relative_uri=\"search/v2/query\",\n",
    "    payload=data\n",
    "    )\n",
    "\n",
    "print(\n",
    "    f\"\"\"\n",
    "    Results: {len(resp['results'])}\n",
    "    Master-data--Wellbore: {json.dumps(resp['results'], indent=4)}\n",
    "    \"\"\"\n",
    ")"
   ]
  },
  {
   "cell_type": "code",
   "execution_count": 6,
   "metadata": {},
   "outputs": [
    {
     "name": "stdout",
     "output_type": "stream",
     "text": [
      "\n",
      "    Results: 1\n",
      "    Master-data--Wellbore: [\n",
      "    {\n",
      "        \"data\": {\n",
      "            \"GeoContexts\": [\n",
      "                {\n",
      "                    \"FieldID\": \"npequinor-test:master-data--Field:b7166de4-746d-11ed-acb8-1a8f3e69d562:\"\n",
      "                }\n",
      "            ],\n",
      "            \"FacilityName\": \"NO 34/8-A-39 H\"\n",
      "        },\n",
      "        \"id\": \"npequinor-test:master-data--Wellbore:4154bd26-746e-11ed-8ab8-1a8f3e69d562\",\n",
      "        \"tags\": {\n",
      "            \"sourceSystem\": \"SMDA\"\n",
      "        }\n",
      "    }\n",
      "]\n",
      "    \n"
     ]
    }
   ],
   "source": [
    "\"\"\"[POST] Search by using the query parameter: FacilityName = \"NO 34/8-A-39 H\"\"\"\n",
    "\n",
    "FacilityName = \"NO 34/8-A-39 H\"\n",
    "\n",
    "data = {\n",
    "        \"kind\": \"osdu:wks:master-data--Wellbore:*\",\n",
    "        \"query\": f\"data.FacilityName:\\\"{FacilityName}\\\"\",\n",
    "        \"returnedFields\":[\"id\", \"data.FacilityName\", \"data.GeoContexts.FieldID\", \"tags.sourceSystem\"]\n",
    "    }\n",
    "\n",
    "resp = osdu_env.app_post_returning_json(\n",
    "    service_relative_uri=\"search/v2/query\",\n",
    "    payload=data\n",
    "    )\n",
    "\n",
    "print(\n",
    "    f\"\"\"\n",
    "    Results: {len(resp['results'])}\n",
    "    Master-data--Wellbore: {json.dumps(resp['results'], indent=4)}\n",
    "    \"\"\"\n",
    ")"
   ]
  },
  {
   "cell_type": "code",
   "execution_count": 7,
   "metadata": {},
   "outputs": [
    {
     "name": "stdout",
     "output_type": "stream",
     "text": [
      "\n",
      "    Results: 1\n",
      "    Master-data--Field: [\n",
      "    {\n",
      "        \"data\": {\n",
      "            \"FieldName\": \"VISUND\"\n",
      "        },\n",
      "        \"id\": \"npequinor-test:master-data--Field:b7166de4-746d-11ed-acb8-1a8f3e69d562\"\n",
      "    }\n",
      "]\n",
      "    \n"
     ]
    }
   ],
   "source": [
    "\"\"\"[POST] Search more information about the FieldID: npequinor-test:master-data--Field:b7166de4-746d-11ed-acb8-1a8f3e69d562:\"\"\"\n",
    "\n",
    "FieldID = \"npequinor-test:master-data--Field:b7166de4-746d-11ed-acb8-1a8f3e69d562\"\n",
    "\n",
    "data = {\n",
    "        \"kind\": \"osdu:wks:master-data--Field:*\",\n",
    "        \"query\": f\"id:\\\"{FieldID}\\\"\",\n",
    "        \"returnedFields\":[\"id\", \"data.FieldName\"]\n",
    "    }\n",
    "\n",
    "resp = osdu_env.app_post_returning_json(\n",
    "    service_relative_uri=\"search/v2/query\",\n",
    "    payload=data\n",
    "    )\n",
    "\n",
    "print(\n",
    "    f\"\"\"\n",
    "    Results: {len(resp['results'])}\n",
    "    Master-data--Field: {json.dumps(resp['results'], indent=4)}\n",
    "    \"\"\"\n",
    ")"
   ]
  },
  {
   "cell_type": "code",
   "execution_count": 8,
   "metadata": {},
   "outputs": [
    {
     "name": "stdout",
     "output_type": "stream",
     "text": [
      "\n",
      "    Results: 10\n",
      "    Work-product-components--WellLog: {\n",
      "    \"data\": {\n",
      "        \"Curves\": [\n",
      "            {\n",
      "                \"Mnemonic\": \"Tool Depth\"\n",
      "            },\n",
      "            {\n",
      "                \"Mnemonic\": \"Fast Channel (High Resolution) Acceleration on X Axis\"\n",
      "            },\n",
      "            {\n",
      "                \"Mnemonic\": \"Fast Channel (High Resolution) Acceleration on Y Axis\"\n",
      "            },\n",
      "            {\n",
      "                \"Mnemonic\": \"Fast Channel (High Resolution) Acceleration on Z Axis\"\n",
      "            },\n",
      "            {\n",
      "                \"Mnemonic\": \"Fast Channel (High Resolution) Acceleration on X Axis Offset Uncorrected\"\n",
      "            },\n",
      "            {\n",
      "                \"Mnemonic\": \"Fast Channel (High Resolution) Acceleration on Y Axis Offset Uncorrected\"\n",
      "            },\n",
      "            {\n",
      "                \"Mnemonic\": \"Fast Channel (High Resolution) Acceleration on Z Axis Offset Uncorrected\"\n",
      "            },\n",
      "            {\n",
      "                \"Mnemonic\": \"Fast Channels Acquisition Time\"\n",
      "            }\n",
      "        ]\n",
      "    },\n",
      "    \"id\": \"npequinor-test:work-product-component--WellLog:0d108840bba04ac2b06d2502fd89e7c5\"\n",
      "}\n",
      "    \n"
     ]
    }
   ],
   "source": [
    "\"\"\"[POST] Search more information about the FieldID: npequinor-test:master-data--Field:b7166de4-746d-11ed-acb8-1a8f3e69d562:\"\"\"\n",
    "\n",
    "wellbore_id = \"npequinor-test:master-data--Wellbore:ff113d0c-746f-11ed-8ab8-1a8f3e69d562\"\n",
    "\n",
    "data = {\n",
    "        \"kind\": \"osdu:wks:work-product-component--WellLog:*\",\n",
    "        \"query\": f\"data.WellboreID:\\\"{wellbore_id}\\\"\",\n",
    "        \"returnedFields\":[\"id\", \"data.Curves.Mnemonic\"],\n",
    "        # \"limit\":1000\n",
    "    }\n",
    "\n",
    "resp = osdu_env.app_post_returning_json(\n",
    "    service_relative_uri=\"search/v2/query\",\n",
    "    payload=data\n",
    "    )\n",
    "\n",
    "print(\n",
    "    f\"\"\"\n",
    "    Results: {len(resp['results'])}\n",
    "    Work-product-components--WellLog: {json.dumps(resp['results'][0], indent=4)}\n",
    "    \"\"\"\n",
    ")"
   ]
  },
  {
   "cell_type": "code",
   "execution_count": 9,
   "metadata": {},
   "outputs": [
    {
     "name": "stdout",
     "output_type": "stream",
     "text": [
      "\n",
      "        tags.exportControl aggregations: [{'key': 'Yes', 'count': 1582671}, {'key': 'No', 'count': 903441}]\n",
      "        \n",
      "\n",
      "        tags.soxCriticalData aggregations: [{'key': 'Not assessed yet', 'count': 1582671}, {'key': 'No', 'count': 903441}]\n",
      "        \n",
      "\n",
      "        tags.personalData aggregations: [{'key': 'No', 'count': 1602928}, {'key': 'Yes, limited personal data', 'count': 883184}]\n",
      "        \n",
      "\n",
      "        tags.legalOwnership aggregations: [{'key': 'Joint venture', 'count': 1602928}, {'key': 'Equinor solely', 'count': 883184}]\n",
      "        \n",
      "\n",
      "        tags.businessCriticalData aggregations: [{'key': 'No', 'count': 1602928}, {'key': 'Not assessed yet', 'count': 883184}]\n",
      "        \n"
     ]
    }
   ],
   "source": [
    "\"\"\"[POST] Aggregation of records by specific field\"\"\"\n",
    "\n",
    "aggregateby = [\"tags.exportControl\", \"tags.soxCriticalData\",  \"tags.personalData\", \"tags.legalOwnership\", \"tags.businessCriticalData\"]\n",
    "\n",
    "for aggregation in aggregateby:\n",
    "    \n",
    "    data = {\n",
    "        \"kind\": \"*:*:*:*\",\n",
    "        \"returnedFields\":[\"tags\"],\n",
    "        \"limit\": 1000,\n",
    "        \"aggregateBy\": f\"{aggregation}\",\n",
    "        \"query\": \"*\"\n",
    "        }\n",
    "\n",
    "    resp = osdu_env.app_post_returning_json(\n",
    "        service_relative_uri=\"search/v2/query\",\n",
    "        payload=data\n",
    "        )\n",
    "\n",
    "    print(\n",
    "        f\"\"\"\n",
    "        {aggregation} aggregations: {resp['aggregations']}\n",
    "        \"\"\"\n",
    "    )"
   ]
  }
 ],
 "metadata": {
  "kernelspec": {
   "display_name": "venv",
   "language": "python",
   "name": "python3"
  },
  "language_info": {
   "codemirror_mode": {
    "name": "ipython",
    "version": 3
   },
   "file_extension": ".py",
   "mimetype": "text/x-python",
   "name": "python",
   "nbconvert_exporter": "python",
   "pygments_lexer": "ipython3",
   "version": "3.9.13"
  },
  "orig_nbformat": 4
 },
 "nbformat": 4,
 "nbformat_minor": 2
}
