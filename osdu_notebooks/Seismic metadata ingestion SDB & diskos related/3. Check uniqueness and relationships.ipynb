{
  "cells": [
    {
      "cell_type": "markdown",
      "metadata": {},
      "source": [
        "## Check uniqueness and record relationships\n",
        "\n",
        "Simple QC notebook to check the record counts, uniquenes, and relationship types between entities."
      ]
    },
    {
      "cell_type": "code",
      "execution_count": null,
      "metadata": {},
      "outputs": [],
      "source": [
        "\"\"\"Uncomment if running in Azure ML\"\"\"\n",
        "# import sys\n",
        "# sys.path.append(r'/mnt/batch/tasks/shared/LS_root/mounts/clusters/jopm/code/Users/JOPM/osdu_jopm_rottation')\n",
        "# sys.path"
      ]
    },
    {
      "cell_type": "code",
      "execution_count": 2,
      "metadata": {
        "gather": {
          "logged": 1690965493528
        }
      },
      "outputs": [
        {
          "data": {
            "text/plain": [
              "True"
            ]
          },
          "execution_count": 2,
          "metadata": {},
          "output_type": "execute_result"
        }
      ],
      "source": [
        "\n",
        "import os\n",
        "import json\n",
        "from libs.ladmark_service.landmark_client import LandmarkService\n",
        "from libs.utilities import unique_ids_counts, get_non_unique_values, count_relationships, compare_dictionaries\n",
        "\n",
        "# Adding .env file variables as environment variables\n",
        "from dotenv import load_dotenv\n",
        "load_dotenv()"
      ]
    },
    {
      "cell_type": "markdown",
      "metadata": {
        "nteract": {
          "transient": {
            "deleting": false
          }
        }
      },
      "source": [
        "#### Get records counts from SDB created before last runtime"
      ]
    },
    {
      "cell_type": "code",
      "execution_count": 3,
      "metadata": {
        "gather": {
          "logged": 1690966020158
        },
        "jupyter": {
          "outputs_hidden": false,
          "source_hidden": false
        },
        "nteract": {
          "transient": {
            "deleting": false
          }
        }
      },
      "outputs": [],
      "source": [
        "last_run_date_time = \"2023-07-26T09:10:16.945Z\"\n",
        "last_run_date_time = None\n",
        "query_records_created_prior_latsrundate = True\n",
        "\n",
        "osdu_env = \"npequinor-dev\"\n",
        "source = \"sdb\""
      ]
    },
    {
      "cell_type": "code",
      "execution_count": 4,
      "metadata": {
        "gather": {
          "logged": 1690966021280
        },
        "jupyter": {
          "outputs_hidden": false,
          "source_hidden": false
        },
        "nteract": {
          "transient": {
            "deleting": false
          }
        }
      },
      "outputs": [],
      "source": [
        "entities = {\n",
        "    \"seismicsurveys\": {\n",
        "        # Attibutes to make the sourse API request\n",
        "        \"relativePath\": \"seismicsurveys\",\n",
        "        \"filters_dict\": {\"surveyDimension\": [\"eq\", \"'3D'\"]},\n",
        "        \"return_cols\": [\"surveyId\"],\n",
        "        \"expand_on\": None,\n",
        "        \"lastrundatetime\": last_run_date_time,\n",
        "        \"before_rundate\": query_records_created_prior_latsrundate,\n",
        "        \"enitity_unique_identifier\": \"surveyId\",\n",
        "        \n",
        "        # Attributes to connect to osdu\n",
        "        \"custom_schema\": f\"eqnr:iEnergy-{source}:seismicsurveys:1.0.0\",\n",
        "        \"osdu_well_known_schema\": [\"osdu:wks:master-data--SeismicAcquisitionSurvey:1.2.0\"]\n",
        "    },\n",
        "    \"seismicprojects\": {\n",
        "        # Attibutes to make the sourse API request\n",
        "        \"relativePath\": \"seismicprojects\",\n",
        "        \"filters_dict\": {\"seismicDimension\": [\"eq\", \"'3D'\"]},\n",
        "        \"return_cols\": [\"projectId\"],\n",
        "        \"expand_on\": None,\n",
        "        \"lastrundatetime\": last_run_date_time,\n",
        "        \"before_rundate\": query_records_created_prior_latsrundate,\n",
        "        \"enitity_unique_identifier\": \"projectId\",\n",
        "        \n",
        "        # Attributes to connect to osdu\n",
        "        \"custom_schema\": f\"eqnr:iEnergy-{source}:seismicprojects:1.0.0\",\n",
        "        \"osdu_well_known_schema\": [\"osdu:wks:master-data--SeismicProcessingProject:1.2.0\"],\n",
        "    },\n",
        "    \"navigationsets\": {\n",
        "        # Attibutes to make the sourse API request\n",
        "        \"relativePath\": \"navigationsets\",\n",
        "        \"filters_dict\": {\"surveyDimension\": [\"eq\", \"'3D'\"]},\n",
        "        \"return_cols\": [\"navigationSetId\"],\n",
        "        \"expand_on\": None,\n",
        "        \"lastrundatetime\": last_run_date_time,\n",
        "        \"before_rundate\": query_records_created_prior_latsrundate,\n",
        "        \"enitity_unique_identifier\": \"navigationSetId\",\n",
        "        \n",
        "        # Attributes to connect to osdu\n",
        "        \"custom_schema\": f\"eqnr:iEnergy-{source}:navigationsets:1.0.0\",\n",
        "        \"osdu_well_known_schema\": [\"osdu:wks:dataset--FileCollection.Generic:1.0.0\"]\n",
        "    },\n",
        "    \"binsetgrids\": {\n",
        "        # Attibutes to make the sourse API request\n",
        "        \"relativePath\": \"binsetgrids\",\n",
        "        \"filters_dict\": None,\n",
        "        \"return_cols\": [\"binsetGrid3dId\"],\n",
        "        \"expand_on\": None,\n",
        "        \"lastrundatetime\": last_run_date_time,\n",
        "        \"before_rundate\": query_records_created_prior_latsrundate,\n",
        "        \"enitity_unique_identifier\": \"binsetGrid3dId\",\n",
        "        \n",
        "        # Attributes to connect to osdu\n",
        "        \"custom_schema\": f\"eqnr:iEnergy-{source}:binsetgrids:1.0.0\",\n",
        "        \"osdu_well_known_schema\": [\"osdu:wks:work-product-component--SeismicBinGrid:1.0.0\"]\n",
        "    },\n",
        "    \"seismicpoststackdatasets\": {\n",
        "        # Attibutes to make the sourse API request\n",
        "        \"relativePath\": \"seismicpoststackdatasets\",\n",
        "        \"filters_dict\": {\"surveyDimension\": [\"eq\", \"'3D'\"]},\n",
        "        \"return_cols\": [\"seismicPoststackDatasetId\"],\n",
        "        \"expand_on\": None,\n",
        "        \"lastrundatetime\": last_run_date_time,\n",
        "        \"before_rundate\": query_records_created_prior_latsrundate,\n",
        "        \"enitity_unique_identifier\": \"seismicPoststackDatasetId\",\n",
        "        \n",
        "        # Attributes to connect to osdu\n",
        "        \"custom_schema\": f\"eqnr:iEnergy-{source}:seismicpoststackdatasets:1.0.0\",\n",
        "        \"osdu_well_known_schema\": [\"osdu:wks:dataset--FileCollection.SEGY:1.0.0\", \"osdu:wks:work-product-component--SeismicTraceData:1.3.0\"]\n",
        "    },\n",
        "    \"poststackcubes\": {\n",
        "        # Attibutes to make the sourse API request\n",
        "        \"relativePath\": \"poststackcubes\",\n",
        "        \"filters_dict\": None,\n",
        "        \"return_cols\": [\"poststackCubeId\", \"seismicPoststackDatasetId\"],\n",
        "        \"expand_on\": None,\n",
        "        \"lastrundatetime\": last_run_date_time,\n",
        "        \"before_rundate\": query_records_created_prior_latsrundate,\n",
        "        \"enitity_unique_identifier\": \"poststackCubeId\",\n",
        "        \n",
        "        # Attributes to connect to osdu\n",
        "        \"custom_schema\": f\"eqnr:iEnergy-{source}:poststackcubes:1.0.0\",\n",
        "        \"osdu_well_known_schema\": [\"osdu:wks:work-product-component--SeismicTraceData:1.3.0\"]\n",
        "    },\n",
        "    \"poststackcubegeometries\": {\n",
        "        # Attibutes to make the sourse API request\n",
        "        \"relativePath\": \"poststackcubegeometries\",\n",
        "        \"filters_dict\": None,\n",
        "        \"return_cols\": [\"poststackCubeId\", \"seismicPoststackDatasetId\"],\n",
        "        \"expand_on\": None,\n",
        "        \"lastrundatetime\": last_run_date_time,\n",
        "        \"before_rundate\": query_records_created_prior_latsrundate,\n",
        "        \"enitity_unique_identifier\": \"poststackCubeId\",\n",
        "        \n",
        "        # Attributes to connect to osdu\n",
        "        \"custom_schema\": f\"eqnr:iEnergy-{source}:poststackcubegeometries:1.0.0\",\n",
        "        \"osdu_well_known_schema\": [\"osdu:wks:work-product-component--SeismicTraceData:1.3.0\", \"osdu:wks:dataset--FileCollection.SEGY:1.0.0\"]\n",
        "    }\n",
        "}"
      ]
    },
    {
      "cell_type": "markdown",
      "metadata": {},
      "source": [
        "#### Get record counts from SDB"
      ]
    },
    {
      "cell_type": "code",
      "execution_count": 5,
      "metadata": {
        "gather": {
          "logged": 1690966067561
        },
        "jupyter": {
          "outputs_hidden": false,
          "source_hidden": false
        },
        "nteract": {
          "transient": {
            "deleting": false
          }
        }
      },
      "outputs": [
        {
          "name": "stdout",
          "output_type": "stream",
          "text": [
            "SEISMICSURVEYS records count: 1979\n",
            "SEISMICPROJECTS records count: 2408\n",
            "NAVIGATIONSETS records count: 3257\n",
            "BINSETGRIDS records count: 2148\n",
            "SEISMICPOSTSTACKDATASETS records count: 19908\n",
            "POSTSTACKCUBES records count: 19829\n",
            "POSTSTACKCUBEGEOMETRIES records count: 19829\n"
          ]
        }
      ],
      "source": [
        "\"\"\"\n",
        "Let's first get the records counts originally given by the SOURCE API.\n",
        "\"\"\"\n",
        "\n",
        "source_records_count = dict()\n",
        "\n",
        "with LandmarkService(\n",
        "    os.environ[f\"{source}_metadata_url\"],\n",
        "    os.environ[f\"{source}_ds_security_url\"],\n",
        "    os.environ[f\"{source}_refresh_token\"]\n",
        "    ) as landmark:\n",
        "    \n",
        "    for entity_name in entities:\n",
        "        records_count = landmark.get_count(**entities.get(entity_name))\n",
        "        source_records_count[entity_name] = records_count\n",
        "        \n",
        "        print(f\"{entity_name.upper()} records count: {source_records_count.get(entity_name)}\")\n",
        "\n",
        "    ## TODO: Leave the query by batch option commented out as it might be needed when we switch into requesting data from DISKOS (larger data)        "
      ]
    },
    {
      "cell_type": "markdown",
      "metadata": {
        "nteract": {
          "transient": {
            "deleting": false
          }
        }
      },
      "source": [
        "#### Get actual records from SDB created before last runtime"
      ]
    },
    {
      "cell_type": "code",
      "execution_count": 6,
      "metadata": {
        "gather": {
          "logged": 1690966233522
        },
        "jupyter": {
          "outputs_hidden": false,
          "source_hidden": false
        },
        "nteract": {
          "transient": {
            "deleting": false
          }
        }
      },
      "outputs": [
        {
          "name": "stderr",
          "output_type": "stream",
          "text": [
            "WARNING:root:Sending request to: https://ndrapi.dsif.dazlmkeqnprd04.ienergycloud.solutions/dsdataserver/dsl.svc/NDRAPI/1/NDR-SDM/ALL_PROJECTS/seismicsurveys?$format=json&$filter=surveyDimension eq '3D'&$select=surveyId&$inlinecount=allpages\n",
            "WARNING:root:Sending request to: https://ndrapi.dsif.dazlmkeqnprd04.ienergycloud.solutions/dsdataserver/dsl.svc/NDRAPI/1/NDR-SDM/ALL_PROJECTS/seismicprojects?$format=json&$filter=seismicDimension eq '3D'&$select=projectId&$inlinecount=allpages\n",
            "WARNING:root:Sending request to: https://ndrapi.dsif.dazlmkeqnprd04.ienergycloud.solutions/dsdataserver/dsl.svc/NDRAPI/1/NDR-SDM/ALL_PROJECTS/navigationsets?$format=json&$filter=surveyDimension eq '3D'&$select=navigationSetId&$inlinecount=allpages\n",
            "WARNING:root:Sending request to: https://ndrapi.dsif.dazlmkeqnprd04.ienergycloud.solutions/dsdataserver/dsl.svc/NDRAPI/1/NDR-SDM/ALL_PROJECTS/binsetgrids?$format=json&$select=binsetGrid3dId&$inlinecount=allpages\n",
            "WARNING:root:Sending request to: https://ndrapi.dsif.dazlmkeqnprd04.ienergycloud.solutions/dsdataserver/dsl.svc/NDRAPI/1/NDR-SDM/ALL_PROJECTS/seismicpoststackdatasets?$format=json&$filter=surveyDimension eq '3D'&$select=seismicPoststackDatasetId&$inlinecount=allpages\n",
            "WARNING:root:Sending request to: https://ndrapi.dsif.dazlmkeqnprd04.ienergycloud.solutions/dsdataserver/dsl.svc/NDRAPI/1/NDR-SDM/ALL_PROJECTS/poststackcubes?$format=json&$select=poststackCubeId,seismicPoststackDatasetId&$inlinecount=allpages\n",
            "WARNING:root:Sending request to: https://ndrapi.dsif.dazlmkeqnprd04.ienergycloud.solutions/dsdataserver/dsl.svc/NDRAPI/1/NDR-SDM/ALL_PROJECTS/poststackcubegeometries?$format=json&$select=poststackCubeId,seismicPoststackDatasetId&$inlinecount=allpages\n"
          ]
        }
      ],
      "source": [
        "\"\"\"\n",
        "Requesting records from source system.\n",
        "\"\"\"\n",
        "\n",
        "source_records = dict()\n",
        "\n",
        "with LandmarkService(os.environ[f\"{source}_metadata_url\"], os.environ[f\"{source}_ds_security_url\"], os.environ[f\"{source}_refresh_token\"]) as landmark:\n",
        "    \n",
        "    for entity_name in entities:\n",
        "        records = landmark.get_records(**entities.get(entity_name))\n",
        "        source_records[entity_name] = records\n",
        "\n",
        "    ## TODO: Leave the query by batch option commented out as it might be needed when we switch into requesting data from DISKOS (larger data)"
      ]
    },
    {
      "cell_type": "code",
      "execution_count": 7,
      "metadata": {
        "gather": {
          "logged": 1690966233743
        },
        "jupyter": {
          "outputs_hidden": false,
          "source_hidden": false
        },
        "nteract": {
          "transient": {
            "deleting": false
          }
        }
      },
      "outputs": [
        {
          "name": "stdout",
          "output_type": "stream",
          "text": [
            "Entity: seismicsurveys has 1979 records, from which 1979 are have unique identifiers (ids)\n",
            "Entity: seismicprojects has 2408 records, from which 2408 are have unique identifiers (ids)\n",
            "Entity: navigationsets has 3257 records, from which 3257 are have unique identifiers (ids)\n",
            "Entity: binsetgrids has 2148 records, from which 2148 are have unique identifiers (ids)\n",
            "Entity: seismicpoststackdatasets has 19908 records, from which 19896 are have unique identifiers (ids)\n",
            "Entity: poststackcubes has 19829 records, from which 19817 are have unique identifiers (ids)\n",
            "Entity: poststackcubegeometries has 19829 records, from which 19817 are have unique identifiers (ids)\n"
          ]
        }
      ],
      "source": [
        "\"\"\"2. Records ids uniqueness\"\"\"\n",
        "\n",
        "entities_names = list(entities.keys())\n",
        "entities_unique_identifiers = list([entity.get('enitity_unique_identifier') for entity in entities.values()])\n",
        "\n",
        "ids_counts = dict()\n",
        "for pair in list(zip(entities_names, entities_unique_identifiers)):\n",
        "    ids_counts[pair[0]] = len(unique_ids_counts(source_records[pair[0]], pair[1]))\n",
        "    \n",
        "for key in ids_counts.keys():\n",
        "    print(f\"Entity: {key} has {len(source_records[key])} records, from which {ids_counts[key]} are have unique identifiers (ids)\")"
      ]
    },
    {
      "cell_type": "code",
      "execution_count": 8,
      "metadata": {
        "gather": {
          "logged": 1690966233826
        },
        "jupyter": {
          "outputs_hidden": false,
          "source_hidden": false
        },
        "nteract": {
          "transient": {
            "deleting": false
          }
        }
      },
      "outputs": [
        {
          "name": "stdout",
          "output_type": "stream",
          "text": [
            "Entity: seismicsurveys - Duplicated ids: 0\n",
            "Entity: seismicprojects - Duplicated ids: 0\n",
            "Entity: navigationsets - Duplicated ids: 0\n",
            "Entity: binsetgrids - Duplicated ids: 0\n",
            "Entity: seismicpoststackdatasets - Duplicated ids: 12\n",
            "Entity: poststackcubes - Duplicated ids: 12\n",
            "Entity: poststackcubegeometries - Duplicated ids: 12\n"
          ]
        }
      ],
      "source": [
        "\"\"\"\n",
        "2. Records ids uniqueness.\n",
        "Let's find the non-unique ids for each entity.\n",
        "\"\"\"\n",
        "\n",
        "ids_duplicates = dict()\n",
        "for pair in list(zip(entities_names, entities_unique_identifiers)):\n",
        "    ids_duplicates[pair[0]] = get_non_unique_values(source_records[pair[0]], pair[1])\n",
        "    \n",
        "for key in ids_duplicates.keys():\n",
        "    print(f\"Entity: {key} - Duplicated ids: {len(ids_duplicates[key])}\")"
      ]
    },
    {
      "cell_type": "code",
      "execution_count": 9,
      "metadata": {
        "gather": {
          "logged": 1690966364179
        },
        "jupyter": {
          "outputs_hidden": false,
          "source_hidden": false
        },
        "nteract": {
          "transient": {
            "deleting": false
          }
        }
      },
      "outputs": [
        {
          "name": "stdout",
          "output_type": "stream",
          "text": [
            "One-to-One count: 19805\n",
            "One-to-Many count: 0\n",
            "Many-to-One count: 0\n",
            "Many-to-Many count: 12\n",
            "One-to-None count: 0\n"
          ]
        }
      ],
      "source": [
        "one_to_one, one_to_many, many_to_one, many_to_many, one_to_none, non_related = count_relationships(\n",
        "    source_records[\"poststackcubegeometries\"],\n",
        "    source_records[\"seismicpoststackdatasets\"],\n",
        "    \"seismicPoststackDatasetId\"\n",
        ")\n",
        "\n",
        "print(f\"One-to-One count: {len(one_to_one)}\")\n",
        "print(f\"One-to-Many count: {len(one_to_many)}\")\n",
        "print(f\"Many-to-One count: {len(many_to_one)}\")\n",
        "print(f\"Many-to-Many count: {len(many_to_many)}\")\n",
        "print(f\"One-to-None count: {len(one_to_none)}\")"
      ]
    },
    {
      "cell_type": "code",
      "execution_count": null,
      "metadata": {},
      "outputs": [],
      "source": []
    }
  ],
  "metadata": {
    "kernel_info": {
      "name": "kerel_jopm"
    },
    "kernelspec": {
      "display_name": "venv",
      "language": "python",
      "name": "python3"
    },
    "language_info": {
      "codemirror_mode": {
        "name": "ipython",
        "version": 3
      },
      "file_extension": ".py",
      "mimetype": "text/x-python",
      "name": "python",
      "nbconvert_exporter": "python",
      "pygments_lexer": "ipython3",
      "version": "3.9.13"
    },
    "microsoft": {
      "host": {
        "AzureML": {
          "notebookHasBeenCompleted": true
        }
      },
      "ms_spell_check": {
        "ms_spell_check_language": "en"
      }
    },
    "nteract": {
      "version": "nteract-front-end@1.0.0"
    }
  },
  "nbformat": 4,
  "nbformat_minor": 2
}
