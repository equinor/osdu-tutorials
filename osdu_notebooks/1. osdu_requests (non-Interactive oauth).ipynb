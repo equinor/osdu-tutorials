{
 "cells": [
  {
   "attachments": {},
   "cell_type": "markdown",
   "metadata": {},
   "source": [
    "## Non-Interactive Authentication to OSDU\n",
    "\n",
    "This notebook is intended to serve as introduction on how to send API requests to OSDU using an non-interactive OAuth 2.0 methodology.\n",
    "\n",
    "What is OAuth?\n",
    "OAuth 2.0, which stands for \"Open Authorization,\" is a standard designed to allow a website or application to access resources hosted by other web applications on behalf of a user.\n",
    "\n",
    "The notebooks covers the following points:\n",
    "\n",
    "1. Sending GET and POST request using Microsoft Authentication Library (MSAL).\n",
    "2. Sending GET and POST request using OSDU SDK."
   ]
  },
  {
   "attachments": {},
   "cell_type": "markdown",
   "metadata": {},
   "source": [
    "##### 1. Sending GET and POST request using Microsoft Authentication Library (MSAL)"
   ]
  },
  {
   "cell_type": "code",
   "execution_count": 1,
   "metadata": {},
   "outputs": [
    {
     "data": {
      "text/plain": [
       "True"
      ]
     },
     "execution_count": 1,
     "metadata": {},
     "output_type": "execute_result"
    }
   ],
   "source": [
    "import msal\n",
    "import requests, json\n",
    "import os\n",
    "\n",
    "# Adding .env file variables as environment variables\n",
    "from dotenv import load_dotenv\n",
    "load_dotenv()"
   ]
  },
  {
   "cell_type": "code",
   "execution_count": 2,
   "metadata": {},
   "outputs": [],
   "source": [
    "\"\"\"\n",
    "The authentication/authorization requires an application to have been regitered within Azure under\n",
    "EQN tenancy, which will provide the application with a client_id.\n",
    "\n",
    "Once the previous is done the application will require to have access to the OSDU main principals\n",
    "for DEV, TEST, and PROD, so that we can make requests to OSDU using its client_id.\n",
    "\n",
    "The application can be either a PublicClientApplication or ConfidentialClientApplication.\n",
    "We will use a ConfidentialClientApplication for this example to make a simple request to OSDU,\n",
    "which allows us authenticate non-intectively by passing the client_id and client_secret as\n",
    "arguments of the ConfidentialClientApplication method.\n",
    "\"\"\"\n",
    "\n",
    "tenant_id = os.environ[\"tenant_id\"]\n",
    "client_id = os.environ[\"osdu_np_client_id\"]\n",
    "client_secret = os.environ[\"osdu_np_client_secret\"]\n",
    "authority = f\"https://login.microsoftonline.com/{tenant_id}\"\n",
    "scopes = f'{os.environ[\"np_resource_id\"]}/.default openid profile offline_access'\n",
    "\n",
    "\n",
    "\"\"\"Then we instantiate a ConfidentialClientApplication.\"\"\"\n",
    "\n",
    "app_client = msal.ConfidentialClientApplication(\n",
    "    client_id=client_id,\n",
    "    client_credential = client_secret,\n",
    "    authority=authority,\n",
    ")\n",
    "\n",
    "\n",
    "\"\"\"Then we request an access token using the app_client credentials, which will be send in the\n",
    "body of our request.\"\"\"\n",
    "\n",
    "result = app_client.acquire_token_for_client(scopes=scopes)\n",
    "access_token = result['access_token']"
   ]
  },
  {
   "cell_type": "code",
   "execution_count": 3,
   "metadata": {},
   "outputs": [
    {
     "data": {
      "text/plain": [
       "{'name': 'npequinor-dev-equinor-private-default',\n",
       " 'description': 'A default legaltag to be used for Equinor data',\n",
       " 'properties': {'countryOfOrigin': ['NO'],\n",
       "  'contractId': 'Unknown',\n",
       "  'expirationDate': '9999-12-31',\n",
       "  'originator': 'Equinor',\n",
       "  'dataType': 'First Party Data',\n",
       "  'securityClassification': 'Private',\n",
       "  'personalData': 'No Personal Data',\n",
       "  'exportClassification': 'No License Required'}}"
      ]
     },
     "execution_count": 3,
     "metadata": {},
     "output_type": "execute_result"
    }
   ],
   "source": [
    "\n",
    "\"\"\"\n",
    "GET REQUEST: Listing legal tags.\n",
    "\n",
    "To make a request to OSDU, we need to append the access token and also the osdu data partition id\n",
    "{PROD: \"equinor-data\", TEST: \"npequinor-test\", DEV: \"npequinor-dev\"} we aim to target. \n",
    "\"\"\"\n",
    "\n",
    "osdu_np_server = os.environ[\"osdu_np_server\"]\n",
    "\n",
    "headers={\n",
    "    \"Authorization\": f\"Bearer {access_token}\",\n",
    "    \"Content-Type\": \"application/json\",\n",
    "    'Accept': 'application/json',\n",
    "    \"data-partition-id\": os.environ[\"osdu_npdev_data_partition_id\"],        \n",
    "}\n",
    "\n",
    "\n",
    "\"\"\"Sending a GET request\"\"\"\n",
    "\n",
    "resp = requests.request(\n",
    "    \"GET\",\n",
    "    url = f\"{osdu_np_server}/legal/v1/legaltags?valid=true\",\n",
    "    headers=headers\n",
    ")\n",
    "\n",
    "\n",
    "\"\"\"Printing first legal in the response\"\"\"\n",
    "\n",
    "resp.json()['legalTags'][0]"
   ]
  },
  {
   "cell_type": "code",
   "execution_count": 4,
   "metadata": {},
   "outputs": [
    {
     "data": {
      "text/plain": [
       "[{'key': 'eqnr:smda-api-v2.0:wellbore-alias:1.0.0', 'count': 747693},\n",
       " {'key': 'osdu:wks:master-data--Organisation:1.1.0', 'count': 125565},\n",
       " {'key': 'eqnr:smda-api-v2.0:wellheaders:1.0.0', 'count': 22546},\n",
       " {'key': 'osdu:wks:master-data--Wellbore:1.1.0', 'count': 22531},\n",
       " {'key': 'eqnr:iEnergy-sdb:seismicpoststackdatasets:1.0.0', 'count': 17685}]"
      ]
     },
     "execution_count": 4,
     "metadata": {},
     "output_type": "execute_result"
    }
   ],
   "source": [
    "\"\"\"\n",
    "POST REQUEST: OSDU aggregated records by schema kind.\n",
    "\n",
    "To make a request to OSDU, we need to append the access token and also the osdu data partition id\n",
    "{PROD: \"equinor-data\", TEST: \"npequinor-test\", DEV: \"npequinor-dev\"} we aim to target. \n",
    "\"\"\"\n",
    "\n",
    "osdu_np_server = os.environ[\"osdu_np_server\"]\n",
    "\n",
    "headers={\n",
    "    \"Authorization\": f\"Bearer {access_token}\",\n",
    "    \"Content-Type\": \"application/json\",\n",
    "    \"data-partition-id\": os.environ[\"osdu_npdev_data_partition_id\"],        \n",
    "}\n",
    "\n",
    "schema_kinds = \"*:*:*:*\"\n",
    "payload = payload = {\"kind\": schema_kinds, 'aggregateBy': 'kind', 'query': \"*\"}\n",
    "\n",
    "\n",
    "\"\"\"Sending a POST request\"\"\"\n",
    "\n",
    "resp = requests.request(\n",
    "    \"POST\",\n",
    "    url = f\"{osdu_np_server}/search/v2/query\",\n",
    "    data = json.dumps(payload),\n",
    "    headers=headers\n",
    ")\n",
    "\n",
    "\n",
    "\"\"\"Printing first legal in the response\"\"\"\n",
    "\n",
    "resp.json()['aggregations'][:5]"
   ]
  },
  {
   "attachments": {},
   "cell_type": "markdown",
   "metadata": {},
   "source": [
    "##### 2. Sending GET and POST request using OSDU SDK."
   ]
  },
  {
   "cell_type": "code",
   "execution_count": 5,
   "metadata": {},
   "outputs": [],
   "source": [
    "from osdu.identity import OsduMsalNonInteractiveCredential\n",
    "from osdu.client import OsduClient"
   ]
  },
  {
   "cell_type": "code",
   "execution_count": 6,
   "metadata": {},
   "outputs": [],
   "source": [
    "\"\"\"\n",
    "The authentication/authorization requires an application to have been regitered within Azure under\n",
    "EQN tenancy, which will provide the application with a client_id.\n",
    "\n",
    "Once the previous is done the application will require to have access to the OSDU main principals\n",
    "for DEV, TEST, and PROD, so that we can make requests to OSDU using its client_id.\n",
    "\n",
    "The application can be either a PublicClientApplication or ConfidentialClientApplication.\n",
    "We will use a ConfidentialClientApplication for this example to make a simple request to OSDU,\n",
    "which allows us authenticate non-intectively by passing the client_id and client_secret as\n",
    "arguments of the ConfidentialClientApplication method.\n",
    "\"\"\"\n",
    "\n",
    "tenant_id = os.environ[\"tenant_id\"]\n",
    "client_id = os.environ[\"osdu_np_client_id\"]\n",
    "client_secret = os.environ[\"osdu_np_client_secret\"]\n",
    "authority = f\"https://login.microsoftonline.com/{tenant_id}\"\n",
    "scopes = f'{os.environ[\"np_resource_id\"]}/.default openid profile offline_access'\n",
    "\n",
    "\n",
    "\"\"\"First we instantiate a ConfidentialClientApplication.\"\"\"\n",
    "\n",
    "app_private_client = msal.ConfidentialClientApplication(\n",
    "    client_id=client_id,\n",
    "    client_credential = client_secret,\n",
    "    authority=authority,\n",
    ")\n",
    "\n",
    "\"\"\"Then we instantiate our credentials, which will allow us authenticate interactively to retrieve\n",
    "and acceess token which will be passes latter in our requests to OSDU.\"\"\"\n",
    "credentials = OsduMsalNonInteractiveCredential(\n",
    "    client_id=client_id,\n",
    "    client_secret=client_secret,\n",
    "    authority=authority,\n",
    "    scopes=scopes,\n",
    "    client=app_private_client\n",
    ")\n",
    "\n",
    "\"\"\"Then we instantiate our client by passing our credentials and the OSDU data partition we want to\n",
    "make requests to.\"\"\"\n",
    "client = OsduClient(server_url=os.environ[\"osdu_np_server\"],\n",
    "                    data_partition=os.environ[\"osdu_npdev_data_partition_id\"],\n",
    "                    credentials=credentials\n",
    "                    )"
   ]
  },
  {
   "cell_type": "code",
   "execution_count": 7,
   "metadata": {},
   "outputs": [
    {
     "data": {
      "text/plain": [
       "{'name': 'npequinor-dev-equinor-private-default',\n",
       " 'description': 'A default legaltag to be used for Equinor data',\n",
       " 'properties': {'countryOfOrigin': ['NO'],\n",
       "  'contractId': 'Unknown',\n",
       "  'expirationDate': '9999-12-31',\n",
       "  'originator': 'Equinor',\n",
       "  'dataType': 'First Party Data',\n",
       "  'securityClassification': 'Private',\n",
       "  'personalData': 'No Personal Data',\n",
       "  'exportClassification': 'No License Required'}}"
      ]
     },
     "execution_count": 7,
     "metadata": {},
     "output_type": "execute_result"
    }
   ],
   "source": [
    "\"\"\"\n",
    "GET REQUEST: Listing legal tags.\n",
    "\n",
    "Then we make a GET request in the same way as we did before.\n",
    "\"\"\"\n",
    "\n",
    "osdu_np_server = os.environ[\"osdu_np_server\"]\n",
    "\n",
    "headers = client.get_headers()\n",
    "\n",
    "resp = requests.request(\n",
    "    \"GET\",\n",
    "    url = f\"{osdu_np_server}/legal/v1/legaltags?valid=true\",\n",
    "    headers=headers\n",
    ")\n",
    "\n",
    "resp.json()['legalTags'][0]"
   ]
  },
  {
   "cell_type": "code",
   "execution_count": 8,
   "metadata": {},
   "outputs": [
    {
     "data": {
      "text/plain": [
       "[{'key': 'eqnr:smda-api-v2.0:wellbore-alias:1.0.0', 'count': 747693},\n",
       " {'key': 'osdu:wks:master-data--Organisation:1.1.0', 'count': 125565},\n",
       " {'key': 'eqnr:smda-api-v2.0:wellheaders:1.0.0', 'count': 22546},\n",
       " {'key': 'osdu:wks:master-data--Wellbore:1.1.0', 'count': 22531},\n",
       " {'key': 'eqnr:iEnergy-sdb:seismicpoststackdatasets:1.0.0', 'count': 17685}]"
      ]
     },
     "execution_count": 8,
     "metadata": {},
     "output_type": "execute_result"
    }
   ],
   "source": [
    "\"\"\"\n",
    "POST REQUEST: OSDU aggregated records by schema kind.\n",
    "\n",
    "Then we make a POST request in the same way as we did before.\n",
    "\"\"\"\n",
    "\n",
    "osdu_np_server = os.environ[\"osdu_np_server\"]\n",
    "\n",
    "schema_kinds = \"*:*:*:*\"\n",
    "payload = payload = {\"kind\": schema_kinds, 'aggregateBy': 'kind', 'query': \"*\"}\n",
    "headers = client.get_headers()\n",
    "\n",
    "resp = requests.request(\n",
    "    \"POST\",\n",
    "    url = f\"{osdu_np_server}/search/v2/query\",\n",
    "    data = json.dumps(payload),\n",
    "    headers=headers\n",
    ")\n",
    "\n",
    "resp.json()['aggregations'][:5]"
   ]
  }
 ],
 "metadata": {
  "kernelspec": {
   "display_name": "venv",
   "language": "python",
   "name": "python3"
  },
  "language_info": {
   "codemirror_mode": {
    "name": "ipython",
    "version": 3
   },
   "file_extension": ".py",
   "mimetype": "text/x-python",
   "name": "python",
   "nbconvert_exporter": "python",
   "pygments_lexer": "ipython3",
   "version": "3.9.13"
  },
  "orig_nbformat": 4
 },
 "nbformat": 4,
 "nbformat_minor": 2
}
