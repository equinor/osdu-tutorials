{
 "cells": [
  {
   "attachments": {},
   "cell_type": "markdown",
   "metadata": {},
   "source": [
    "## Abstracting OSDU environment variables within the ConfigOsduEnvironment class.\n",
    "\n",
    "At the time of writting this notebook, OSDU has 3 main data partitions which overall work as DEV, TEST, and PROD environmentz.\n",
    "In addition, depending on the selected OAuth method (Interactive or Non-Interactive) sereral values such as client_id, client_secret, resource_id, scopes, data_partition_id should be used accordingly when instantiating a osdu client to make requests to OSDU.\n",
    "\n",
    "Let's attempt to define some of the parameters previously mentioned:\n",
    "\n",
    "    - client_id: The id of the enterprise application registered in the Azure Active Directory, which requires to have access to the service principals of the EQN OSDU instance.\n",
    "    - client_secret: The generated client secret for the client_id application. If the chosen OAuth method is Interactive, this parameter is not required, while if the method to authenticate is Non-Interactive, the client_secret is required.\n",
    "    - resource_id: Service pricncipal id. Osdu has 2 main principals: \"osdu-main-principle-production\" and \"osdu-main-principle-non-production\".\n",
    "    - scopes:\n",
    "    - data-partition-id: Osdu has 3 main data partitions: \"npequinor-test\", \"npequinor-dev\", and \"equinor-data\".\n",
    "\n",
    "\n",
    "This notebook is intended to abstract this by creating a ConfigOsduEnvironment that provides the correct parameters given the osdu environment."
   ]
  },
  {
   "cell_type": "code",
   "execution_count": 1,
   "metadata": {},
   "outputs": [
    {
     "data": {
      "text/plain": [
       "True"
      ]
     },
     "execution_count": 1,
     "metadata": {},
     "output_type": "execute_result"
    }
   ],
   "source": [
    "import os\n",
    "\n",
    "# Adding .env file variables as environment variables\n",
    "from dotenv import load_dotenv\n",
    "load_dotenv()"
   ]
  },
  {
   "cell_type": "code",
   "execution_count": 2,
   "metadata": {},
   "outputs": [],
   "source": [
    "class ConfigOsduEnvironment:\n",
    "    \n",
    "    \"\"\"\n",
    "    Gets the configuration values according to the environment to target\n",
    "    and the kind of authentication/authorization to be used.\n",
    "    \n",
    "    osdu_environment: \"npequinor-test\", \"npequinor-dev\", or \"equinor-data\",\n",
    "    client_type: \"public-client\", \"private-client\", or \"token-client\".\n",
    "    The osdu_cli_client (public-client) set as default.\n",
    "    \"\"\"\n",
    "    \n",
    "    def __init__(self, osdu_environment, client_type = \"public-client\") -> dict:\n",
    "\n",
    "        self.osdu_environment = osdu_environment\n",
    "        self.client_type = client_type\n",
    "        self.env_variables = self._get_variables\n",
    "        \n",
    "    @property\n",
    "    def _get_variables(self):\n",
    "        \n",
    "        self.client_secret = None\n",
    "        self.refresh_token_key = None\n",
    "        self.tenant_id = os.environ['tenant_id']\n",
    "        \n",
    "        if self.osdu_environment == 'npequinor-dev' or self.osdu_environment == 'npequinor-test':\n",
    "            \n",
    "            # osdu\n",
    "            self.url = os.environ['osdu_np_server']\n",
    "            self.resource_id = os.environ['np_resource_id']\n",
    "            if self.osdu_environment == 'npequinor-dev':\n",
    "                self.data_partition_id = os.environ['osdu_npdev_data_partition_id']\n",
    "            elif self.osdu_environment == 'npequinor-test':\n",
    "                self.data_partition_id = os.environ['osdu_nptest_data_partition']\n",
    "            \n",
    "            # client data (DEV-TEST)\n",
    "            if self.client_type==\"public-client\":\n",
    "                self.client_id = os.environ['osdu_cli_client_id']\n",
    "            elif self.client_type==\"private-client\":\n",
    "                self.client_id = os.environ['osdu_np_client_id']\n",
    "                self.client_secret = os.environ['osdu_np_client_secret']\n",
    "            elif self.client_type==\"token-client\":\n",
    "                self.client_id = os.environ['token_client_id']\n",
    "                self.client_secret = os.environ['token_client_secret']\n",
    "                self.refresh_token_key = 'token_client_refresh_token_non_prod'\n",
    "\n",
    "        elif self.osdu_environment == 'equinor-data':\n",
    "            # osdu\n",
    "            self.url = os.environ['osdu_prod_server']\n",
    "            self.resource_id = os.environ['prod_resource_id']\n",
    "            self.data_partition_id = os.environ['osdu_prod_data_partition_id']\n",
    "            \n",
    "            # client data (PROD)\n",
    "            if self.client_type==\"public-client\":\n",
    "                self.client_id = os.environ['osdu_cli_client_id']\n",
    "            elif self.client_type==\"private-client\":\n",
    "                self.client_id = os.environ['osdu_prod_client_id']\n",
    "                self.client_secret = os.environ['osdu_prod_client_secret']\n",
    "            elif self.client_type==\"token-client\":\n",
    "                self.client_id = os.environ['token_client_id']\n",
    "                self.client_secret = os.environ['token_client_secret']\n",
    "                self.refresh_token_key = 'token_client_refresh_token_prod'\n",
    "\n",
    "        return {\n",
    "            'osdu_environment': self.osdu_environment,\n",
    "            'url':self.url,\n",
    "            'resource_id' : self.resource_id,\n",
    "            'client_id': self.client_id,\n",
    "            'client_secret' : self.client_secret,\n",
    "            'data_partition_id': self.data_partition_id,\n",
    "            'tenant_id': self.tenant_id,\n",
    "            'refresh_token_key': self.refresh_token_key            \n",
    "        }"
   ]
  },
  {
   "cell_type": "code",
   "execution_count": 3,
   "metadata": {},
   "outputs": [],
   "source": [
    "env = ConfigOsduEnvironment(\"npequinor-dev\", client_type = \"public-client\")\n",
    "# env = ConfigOsduEnvironment(\"npequinor-test\", client_type = \"public-client\")\n",
    "# env = ConfigOsduEnvironment(\"equinor-data\", client_type = \"public-client\")"
   ]
  },
  {
   "cell_type": "code",
   "execution_count": 4,
   "metadata": {},
   "outputs": [
    {
     "data": {
      "text/plain": [
       "{'osdu_environment': 'npequinor-dev',\n",
       " 'url': 'https://npequinor.energy.azure.com/api',\n",
       " 'resource_id': '7daee810-3f78-40c4-84c2-7a199428de18',\n",
       " 'client_id': '7a414874-4b27-4378-b34f-bc9e5a5faa4f',\n",
       " 'client_secret': None,\n",
       " 'data_partition_id': 'npequinor-dev',\n",
       " 'tenant_id': '3aa4a235-b6e2-48d5-9195-7fcf05b459b0',\n",
       " 'refresh_token_key': None}"
      ]
     },
     "execution_count": 4,
     "metadata": {},
     "output_type": "execute_result"
    }
   ],
   "source": [
    "env.env_variables"
   ]
  }
 ],
 "metadata": {
  "kernelspec": {
   "display_name": "venv",
   "language": "python",
   "name": "python3"
  },
  "language_info": {
   "codemirror_mode": {
    "name": "ipython",
    "version": 3
   },
   "file_extension": ".py",
   "mimetype": "text/x-python",
   "name": "python",
   "nbconvert_exporter": "python",
   "pygments_lexer": "ipython3",
   "version": "3.9.13"
  },
  "orig_nbformat": 4
 },
 "nbformat": 4,
 "nbformat_minor": 2
}
